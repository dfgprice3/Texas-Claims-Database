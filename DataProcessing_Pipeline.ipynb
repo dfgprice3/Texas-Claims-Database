{
 "cells": [
  {
   "cell_type": "markdown",
   "id": "bd1bdaba",
   "metadata": {},
   "source": [
    "**Name:**  Don Price<br>\n",
    "**Class:** DSC 540<br>\n",
    "**Assignment:** Final Project, Milestone 5"
   ]
  },
  {
   "cell_type": "code",
   "execution_count": 129,
   "id": "fbbda197",
   "metadata": {},
   "outputs": [],
   "source": [
    "# Load Libraries\n",
    "\n",
    "import numpy as np\n",
    "import pandas as pd\n",
    "import matplotlib.pyplot as plt\n",
    "import seaborn as sns\n",
    "\n",
    "import requests\n",
    "import json"
   ]
  },
  {
   "cell_type": "markdown",
   "id": "a9a17daa",
   "metadata": {},
   "source": [
    "# Milestone 2: Data Manipulation of Flat File"
   ]
  },
  {
   "cell_type": "markdown",
   "id": "20dc231c",
   "metadata": {},
   "source": [
    "## National Flood Insurance Program (NFIP) Claims: \n",
    "- Loss information is tracked for each policy issued by the NFIP. Total losses per claim are provided, and there are additional policy attributes that will help us assess the total insured losses per unit of covered risk.\n",
    "- Data retrieved: 4/22/2022\n",
    "- This data set is available through an API and csv. We will use the csv flat file for this project. Link to data: https://www.fema.gov/openfema-data-page/fima-nfip-redacted-claims-v1\n",
    "- Data dictionary can also be found at the link above."
   ]
  },
  {
   "cell_type": "code",
   "execution_count": 2,
   "id": "7141971f",
   "metadata": {},
   "outputs": [],
   "source": [
    "# Load data set\n",
    "\n",
    "FILE = 'FimaNfipClaims.csv'\n",
    "DATES = ['asOfDate', 'dateOfLoss', 'originalConstructionDate', 'originalNBDate']\n",
    "\n",
    "claims_df = pd.read_csv(FILE, parse_dates=DATES)"
   ]
  },
  {
   "cell_type": "code",
   "execution_count": 3,
   "id": "7fbcc86f",
   "metadata": {},
   "outputs": [
    {
     "data": {
      "text/html": [
       "<div>\n",
       "<style scoped>\n",
       "    .dataframe tbody tr th:only-of-type {\n",
       "        vertical-align: middle;\n",
       "    }\n",
       "\n",
       "    .dataframe tbody tr th {\n",
       "        vertical-align: top;\n",
       "    }\n",
       "\n",
       "    .dataframe thead th {\n",
       "        text-align: right;\n",
       "    }\n",
       "</style>\n",
       "<table border=\"1\" class=\"dataframe\">\n",
       "  <thead>\n",
       "    <tr style=\"text-align: right;\">\n",
       "      <th></th>\n",
       "      <th>agricultureStructureIndicator</th>\n",
       "      <th>asOfDate</th>\n",
       "      <th>baseFloodElevation</th>\n",
       "      <th>basementEnclosureCrawlspace</th>\n",
       "      <th>reportedCity</th>\n",
       "      <th>condominiumIndicator</th>\n",
       "      <th>policyCount</th>\n",
       "      <th>countyCode</th>\n",
       "      <th>communityRatingSystemDiscount</th>\n",
       "      <th>dateOfLoss</th>\n",
       "      <th>...</th>\n",
       "      <th>postFIRMConstructionIndicator</th>\n",
       "      <th>rateMethod</th>\n",
       "      <th>smallBusinessIndicatorBuilding</th>\n",
       "      <th>state</th>\n",
       "      <th>totalBuildingInsuranceCoverage</th>\n",
       "      <th>totalContentsInsuranceCoverage</th>\n",
       "      <th>yearOfLoss</th>\n",
       "      <th>reportedZipcode</th>\n",
       "      <th>primaryResidence</th>\n",
       "      <th>id</th>\n",
       "    </tr>\n",
       "  </thead>\n",
       "  <tbody>\n",
       "    <tr>\n",
       "      <th>0</th>\n",
       "      <td>0.0</td>\n",
       "      <td>2021-11-21 00:34:48.052000+00:00</td>\n",
       "      <td>50.0</td>\n",
       "      <td>NaN</td>\n",
       "      <td>Temporarily Unavailable</td>\n",
       "      <td>N</td>\n",
       "      <td>1.0</td>\n",
       "      <td>48201.0</td>\n",
       "      <td>5.0</td>\n",
       "      <td>2001-06-09 04:00:00+00:00</td>\n",
       "      <td>...</td>\n",
       "      <td>1.0</td>\n",
       "      <td>1</td>\n",
       "      <td>0.0</td>\n",
       "      <td>TX</td>\n",
       "      <td>25000.0</td>\n",
       "      <td>25000.0</td>\n",
       "      <td>2001</td>\n",
       "      <td>77025.0</td>\n",
       "      <td>1.0</td>\n",
       "      <td>622850f871781e79466e63c9</td>\n",
       "    </tr>\n",
       "    <tr>\n",
       "      <th>1</th>\n",
       "      <td>0.0</td>\n",
       "      <td>2021-07-25 01:39:04.381000+00:00</td>\n",
       "      <td>NaN</td>\n",
       "      <td>1.0</td>\n",
       "      <td>Temporarily Unavailable</td>\n",
       "      <td>N</td>\n",
       "      <td>1.0</td>\n",
       "      <td>24033.0</td>\n",
       "      <td>5.0</td>\n",
       "      <td>2007-01-01 05:00:00+00:00</td>\n",
       "      <td>...</td>\n",
       "      <td>0.0</td>\n",
       "      <td>7</td>\n",
       "      <td>0.0</td>\n",
       "      <td>MD</td>\n",
       "      <td>100000.0</td>\n",
       "      <td>40000.0</td>\n",
       "      <td>2007</td>\n",
       "      <td>20745.0</td>\n",
       "      <td>1.0</td>\n",
       "      <td>622850f871781e79466e63c6</td>\n",
       "    </tr>\n",
       "    <tr>\n",
       "      <th>2</th>\n",
       "      <td>0.0</td>\n",
       "      <td>2021-07-25 01:39:04.381000+00:00</td>\n",
       "      <td>NaN</td>\n",
       "      <td>NaN</td>\n",
       "      <td>Temporarily Unavailable</td>\n",
       "      <td>N</td>\n",
       "      <td>1.0</td>\n",
       "      <td>48201.0</td>\n",
       "      <td>7.0</td>\n",
       "      <td>2006-06-19 04:00:00+00:00</td>\n",
       "      <td>...</td>\n",
       "      <td>1.0</td>\n",
       "      <td>7</td>\n",
       "      <td>0.0</td>\n",
       "      <td>TX</td>\n",
       "      <td>150000.0</td>\n",
       "      <td>60000.0</td>\n",
       "      <td>2006</td>\n",
       "      <td>77015.0</td>\n",
       "      <td>1.0</td>\n",
       "      <td>622850f871781e79466e63da</td>\n",
       "    </tr>\n",
       "    <tr>\n",
       "      <th>3</th>\n",
       "      <td>0.0</td>\n",
       "      <td>2021-07-25 01:39:04.381000+00:00</td>\n",
       "      <td>NaN</td>\n",
       "      <td>NaN</td>\n",
       "      <td>Temporarily Unavailable</td>\n",
       "      <td>N</td>\n",
       "      <td>1.0</td>\n",
       "      <td>48439.0</td>\n",
       "      <td>8.0</td>\n",
       "      <td>1992-06-28 04:00:00+00:00</td>\n",
       "      <td>...</td>\n",
       "      <td>0.0</td>\n",
       "      <td>7</td>\n",
       "      <td>0.0</td>\n",
       "      <td>TX</td>\n",
       "      <td>20000.0</td>\n",
       "      <td>5000.0</td>\n",
       "      <td>1992</td>\n",
       "      <td>76112.0</td>\n",
       "      <td>0.0</td>\n",
       "      <td>622850f871781e79466e63e6</td>\n",
       "    </tr>\n",
       "    <tr>\n",
       "      <th>4</th>\n",
       "      <td>0.0</td>\n",
       "      <td>2021-07-25 01:39:04.381000+00:00</td>\n",
       "      <td>NaN</td>\n",
       "      <td>NaN</td>\n",
       "      <td>Temporarily Unavailable</td>\n",
       "      <td>N</td>\n",
       "      <td>1.0</td>\n",
       "      <td>34001.0</td>\n",
       "      <td>5.0</td>\n",
       "      <td>1995-12-19 05:00:00+00:00</td>\n",
       "      <td>...</td>\n",
       "      <td>0.0</td>\n",
       "      <td>1</td>\n",
       "      <td>0.0</td>\n",
       "      <td>NJ</td>\n",
       "      <td>250000.0</td>\n",
       "      <td>100000.0</td>\n",
       "      <td>1995</td>\n",
       "      <td>8406.0</td>\n",
       "      <td>0.0</td>\n",
       "      <td>622850f871781e79466e63ee</td>\n",
       "    </tr>\n",
       "  </tbody>\n",
       "</table>\n",
       "<p>5 rows × 40 columns</p>\n",
       "</div>"
      ],
      "text/plain": [
       "   agricultureStructureIndicator                         asOfDate  \\\n",
       "0                            0.0 2021-11-21 00:34:48.052000+00:00   \n",
       "1                            0.0 2021-07-25 01:39:04.381000+00:00   \n",
       "2                            0.0 2021-07-25 01:39:04.381000+00:00   \n",
       "3                            0.0 2021-07-25 01:39:04.381000+00:00   \n",
       "4                            0.0 2021-07-25 01:39:04.381000+00:00   \n",
       "\n",
       "   baseFloodElevation  basementEnclosureCrawlspace             reportedCity  \\\n",
       "0                50.0                          NaN  Temporarily Unavailable   \n",
       "1                 NaN                          1.0  Temporarily Unavailable   \n",
       "2                 NaN                          NaN  Temporarily Unavailable   \n",
       "3                 NaN                          NaN  Temporarily Unavailable   \n",
       "4                 NaN                          NaN  Temporarily Unavailable   \n",
       "\n",
       "  condominiumIndicator  policyCount  countyCode  \\\n",
       "0                    N          1.0     48201.0   \n",
       "1                    N          1.0     24033.0   \n",
       "2                    N          1.0     48201.0   \n",
       "3                    N          1.0     48439.0   \n",
       "4                    N          1.0     34001.0   \n",
       "\n",
       "   communityRatingSystemDiscount                dateOfLoss  ...  \\\n",
       "0                            5.0 2001-06-09 04:00:00+00:00  ...   \n",
       "1                            5.0 2007-01-01 05:00:00+00:00  ...   \n",
       "2                            7.0 2006-06-19 04:00:00+00:00  ...   \n",
       "3                            8.0 1992-06-28 04:00:00+00:00  ...   \n",
       "4                            5.0 1995-12-19 05:00:00+00:00  ...   \n",
       "\n",
       "   postFIRMConstructionIndicator  rateMethod  smallBusinessIndicatorBuilding  \\\n",
       "0                            1.0           1                             0.0   \n",
       "1                            0.0           7                             0.0   \n",
       "2                            1.0           7                             0.0   \n",
       "3                            0.0           7                             0.0   \n",
       "4                            0.0           1                             0.0   \n",
       "\n",
       "   state totalBuildingInsuranceCoverage  totalContentsInsuranceCoverage  \\\n",
       "0     TX                        25000.0                         25000.0   \n",
       "1     MD                       100000.0                         40000.0   \n",
       "2     TX                       150000.0                         60000.0   \n",
       "3     TX                        20000.0                          5000.0   \n",
       "4     NJ                       250000.0                        100000.0   \n",
       "\n",
       "   yearOfLoss  reportedZipcode  primaryResidence                        id  \n",
       "0        2001          77025.0               1.0  622850f871781e79466e63c9  \n",
       "1        2007          20745.0               1.0  622850f871781e79466e63c6  \n",
       "2        2006          77015.0               1.0  622850f871781e79466e63da  \n",
       "3        1992          76112.0               0.0  622850f871781e79466e63e6  \n",
       "4        1995           8406.0               0.0  622850f871781e79466e63ee  \n",
       "\n",
       "[5 rows x 40 columns]"
      ]
     },
     "execution_count": 3,
     "metadata": {},
     "output_type": "execute_result"
    }
   ],
   "source": [
    "# Verify the data frame is ingested properly\n",
    "claims_df.head()"
   ]
  },
  {
   "cell_type": "code",
   "execution_count": 4,
   "id": "395fba75",
   "metadata": {},
   "outputs": [
    {
     "name": "stdout",
     "output_type": "stream",
     "text": [
      "<class 'pandas.core.frame.DataFrame'>\n",
      "RangeIndex: 2568936 entries, 0 to 2568935\n",
      "Data columns (total 40 columns):\n",
      " #   Column                                      Dtype              \n",
      "---  ------                                      -----              \n",
      " 0   agricultureStructureIndicator               float64            \n",
      " 1   asOfDate                                    datetime64[ns, UTC]\n",
      " 2   baseFloodElevation                          float64            \n",
      " 3   basementEnclosureCrawlspace                 float64            \n",
      " 4   reportedCity                                object             \n",
      " 5   condominiumIndicator                        object             \n",
      " 6   policyCount                                 float64            \n",
      " 7   countyCode                                  float64            \n",
      " 8   communityRatingSystemDiscount               float64            \n",
      " 9   dateOfLoss                                  datetime64[ns, UTC]\n",
      " 10  elevatedBuildingIndicator                   float64            \n",
      " 11  elevationCertificateIndicator               float64            \n",
      " 12  elevationDifference                         float64            \n",
      " 13  censusTract                                 float64            \n",
      " 14  floodZone                                   object             \n",
      " 15  houseWorship                                float64            \n",
      " 16  latitude                                    float64            \n",
      " 17  longitude                                   float64            \n",
      " 18  locationOfContents                          int64              \n",
      " 19  lowestAdjacentGrade                         float64            \n",
      " 20  lowestFloorElevation                        float64            \n",
      " 21  numberOfFloorsInTheInsuredBuilding          float64            \n",
      " 22  nonProfitIndicator                          float64            \n",
      " 23  obstructionType                             float64            \n",
      " 24  occupancyType                               float64            \n",
      " 25  originalConstructionDate                    datetime64[ns, UTC]\n",
      " 26  originalNBDate                              datetime64[ns, UTC]\n",
      " 27  amountPaidOnBuildingClaim                   float64            \n",
      " 28  amountPaidOnContentsClaim                   float64            \n",
      " 29  amountPaidOnIncreasedCostOfComplianceClaim  float64            \n",
      " 30  postFIRMConstructionIndicator               float64            \n",
      " 31  rateMethod                                  object             \n",
      " 32  smallBusinessIndicatorBuilding              float64            \n",
      " 33  state                                       object             \n",
      " 34  totalBuildingInsuranceCoverage              float64            \n",
      " 35  totalContentsInsuranceCoverage              float64            \n",
      " 36  yearOfLoss                                  int64              \n",
      " 37  reportedZipcode                             float64            \n",
      " 38  primaryResidence                            float64            \n",
      " 39  id                                          object             \n",
      "dtypes: datetime64[ns, UTC](4), float64(28), int64(2), object(6)\n",
      "memory usage: 784.0+ MB\n"
     ]
    }
   ],
   "source": [
    "# Provide list of fields and field types\n",
    "claims_df.info()"
   ]
  },
  {
   "cell_type": "markdown",
   "id": "c620d7f0",
   "metadata": {},
   "source": [
    "### Cleaning Step 1: Convert Indicators to Objects instead of float variables."
   ]
  },
  {
   "cell_type": "markdown",
   "id": "3b4c8a86",
   "metadata": {},
   "source": [
    "Some of the indicators and the year of loss variable were converted to float values upon import. This will create issues within our model and need to be converted to objects."
   ]
  },
  {
   "cell_type": "code",
   "execution_count": 5,
   "id": "408fdc78",
   "metadata": {},
   "outputs": [],
   "source": [
    "# Convert indicator fields from float to objects.\n",
    "INDICATORFIELDS = ['agricultureStructureIndicator', 'countyCode', 'elevatedBuildingIndicator',\n",
    "                   'houseWorship', 'nonProfitIndicator', 'occupancyType', 'obstructionType',\n",
    "                   'postFIRMConstructionIndicator', 'yearOfLoss', 'reportedZipcode',\n",
    "                   'primaryResidence', 'smallBusinessIndicatorBuilding']\n",
    "\n",
    "for x in INDICATORFIELDS:\n",
    "    claims_df[x] = claims_df[x].astype('object')"
   ]
  },
  {
   "cell_type": "code",
   "execution_count": 6,
   "id": "de31df79",
   "metadata": {
    "scrolled": true
   },
   "outputs": [
    {
     "name": "stdout",
     "output_type": "stream",
     "text": [
      "<class 'pandas.core.frame.DataFrame'>\n",
      "RangeIndex: 2568936 entries, 0 to 2568935\n",
      "Data columns (total 12 columns):\n",
      " #   Column                          Dtype \n",
      "---  ------                          ----- \n",
      " 0   agricultureStructureIndicator   object\n",
      " 1   countyCode                      object\n",
      " 2   elevatedBuildingIndicator       object\n",
      " 3   houseWorship                    object\n",
      " 4   nonProfitIndicator              object\n",
      " 5   occupancyType                   object\n",
      " 6   obstructionType                 object\n",
      " 7   postFIRMConstructionIndicator   object\n",
      " 8   yearOfLoss                      object\n",
      " 9   reportedZipcode                 object\n",
      " 10  primaryResidence                object\n",
      " 11  smallBusinessIndicatorBuilding  object\n",
      "dtypes: object(12)\n",
      "memory usage: 235.2+ MB\n"
     ]
    }
   ],
   "source": [
    "# Verify fields were converted to floats.\n",
    "claims_df[INDICATORFIELDS].info()"
   ]
  },
  {
   "cell_type": "markdown",
   "id": "996481e9",
   "metadata": {},
   "source": [
    "### Cleaning Step 2: Filtering on Commercial Policies"
   ]
  },
  {
   "cell_type": "markdown",
   "id": "c237e60e",
   "metadata": {},
   "source": [
    "Our data set will be joined to other information from the NFIP and to a listing of household statistics. To have comparable information, our claims data will need to exclude all commercial policies. We will exclude commercial policies using several of the fields within the data set."
   ]
  },
  {
   "cell_type": "code",
   "execution_count": 7,
   "id": "56767086",
   "metadata": {},
   "outputs": [],
   "source": [
    "# Exclude all agriculture buildings. 372 rows excluded.\n",
    "\n",
    "pers_claims_df = claims_df.loc[claims_df['agricultureStructureIndicator']!=1]"
   ]
  },
  {
   "cell_type": "code",
   "execution_count": 8,
   "id": "626b6dd8",
   "metadata": {},
   "outputs": [],
   "source": [
    "# Exclude Houses of Worship. Approximately 2700 rows excluded. \n",
    "\n",
    "pers_claims_df = pers_claims_df.loc[pers_claims_df['houseWorship']!=1]"
   ]
  },
  {
   "cell_type": "code",
   "execution_count": 9,
   "id": "c84c7beb",
   "metadata": {},
   "outputs": [],
   "source": [
    "# Exclude non-profit organizations. 1967 records to remove.\n",
    "\n",
    "pers_claims_df = pers_claims_df.loc[pers_claims_df['nonProfitIndicator']!=1]"
   ]
  },
  {
   "cell_type": "markdown",
   "id": "ba904bd3",
   "metadata": {},
   "source": [
    "Documentation of the Occupancy Type Code:<br>\n",
    "Code indicating the use and occupancy type of the insured structure. One-digit code: 1: Single family residence; 2: 2 to 4 unit residential building; 3: Residential building with more than 4 units; 4: Non-residential building; 11: Single-family residential building with the exception of a mobile home or a single residential unit within a multi-unit building; 12: A residential non-condo building with 2, 3, or 4 units seeking insurance on all units; 13: A residential non-condo building with 5 or more units seeking insurance on all units; 14: Residential mobile/manufactured home; 15: Residential condo association seeking coverage on a building with one or more units; 16: Single residential unit within a multi-unit building; 17: Non-residential mobile/manufactured home; 18: A non-residential building; 19: A non-residential unit within a multi-unit building                                                        "
   ]
  },
  {
   "cell_type": "code",
   "execution_count": 10,
   "id": "c6c9b955",
   "metadata": {},
   "outputs": [],
   "source": [
    "# Using Occupancy Type field, remove all non-residential structures (occupancy codes>=17). Remove 332 rows.\n",
    "\n",
    "pers_claims_df = pers_claims_df.loc[pers_claims_df['occupancyType']<17]"
   ]
  },
  {
   "cell_type": "code",
   "execution_count": 11,
   "id": "e68a789f",
   "metadata": {},
   "outputs": [
    {
     "name": "stdout",
     "output_type": "stream",
     "text": [
      "The original database contained 2568936 records.\n",
      "Excluding commercial accounts, the personal database contains 2563487 records.\n",
      "There were 5449 records removed.\n"
     ]
    }
   ],
   "source": [
    "print(f'The original database contained {claims_df.shape[0]} records.')\n",
    "print(f'Excluding commercial accounts, the personal database contains {pers_claims_df.shape[0]} records.')\n",
    "print(f'There were {claims_df.shape[0] - pers_claims_df.shape[0]} records removed.')"
   ]
  },
  {
   "cell_type": "markdown",
   "id": "f421ac75",
   "metadata": {},
   "source": [
    "### Cleaning Step 3: Remove all columns with high percentage of null values"
   ]
  },
  {
   "cell_type": "code",
   "execution_count": 12,
   "id": "8fc62cd0",
   "metadata": {},
   "outputs": [
    {
     "name": "stdout",
     "output_type": "stream",
     "text": [
      "                                         Field  Null_Count  Null_Percent\n",
      "18  amountPaidOnIncreasedCostOfComplianceClaim     2489195      0.971019\n",
      "11                         lowestAdjacentGrade     2102968      0.820354\n",
      "5                elevationCertificateIndicator     1977239      0.771308\n",
      "0                           baseFloodElevation     1955040      0.762649\n",
      "6                          elevationDifference     1881463      0.733947\n",
      "1                  basementEnclosureCrawlspace     1794714      0.700107\n",
      "17                   amountPaidOnContentsClaim     1583060      0.617542\n",
      "13                             obstructionType     1072138      0.418234\n",
      "4                communityRatingSystemDiscount      933363      0.364099\n",
      "16                   amountPaidOnBuildingClaim      664788      0.259330\n",
      "8                                    floodZone      143090      0.055819\n",
      "7                                  censusTract      137866      0.053781\n",
      "23                             reportedZipcode       56203      0.021924\n",
      "19                                  rateMethod       55144      0.021511\n",
      "3                                   countyCode       43736      0.017061\n"
     ]
    }
   ],
   "source": [
    "# Check for null values. Print any columns with null values and the number of null values.\n",
    "\n",
    "Field = []\n",
    "Null_Count = []\n",
    "Null_Percent = []\n",
    "\n",
    "for x in pers_claims_df.columns:\n",
    "    null_count = sum(pers_claims_df[x].isnull())\n",
    "    if null_count>0:\n",
    "        Field.append(x)\n",
    "        Null_Count.append(null_count)\n",
    "        Null_Percent.append(null_count/(pers_claims_df.shape[0]))\n",
    "\n",
    "nulls_df = pd.DataFrame({'Field':Field, 'Null_Count':Null_Count, 'Null_Percent':Null_Percent})\n",
    "print(nulls_df.sort_values(by='Null_Count', ascending=False).head(15))"
   ]
  },
  {
   "cell_type": "markdown",
   "id": "d6905f41",
   "metadata": {},
   "source": [
    "The top field not populated is the 'amountPaidOnIncreasedCost of ComplianceClaim'. This field represents payment of a government subsidy to allow for building improvements to mitigate future flood loss. The payment is rare, but it's a relevant cost of claim, so we will retain this field in our data.\n",
    "\n",
    "There are 5 other fields that have 70% or more of missing values. These fields are all property descriptors. Given the sparce data and the vast difference in properties included in this data set, we will remove these columns rather than impute values."
   ]
  },
  {
   "cell_type": "code",
   "execution_count": 13,
   "id": "4b0848ba",
   "metadata": {},
   "outputs": [
    {
     "name": "stdout",
     "output_type": "stream",
     "text": [
      "Claims_df now has 35 columns. 35 columns are expected\n"
     ]
    }
   ],
   "source": [
    "# Drop columns where missing value percentage is 70% or greater (excluding payment field noted above).\n",
    "DROPFIELDS = ['lowestAdjacentGrade', 'elevationCertificateIndicator', 'baseFloodElevation', \n",
    "               'elevationDifference', 'basementEnclosureCrawlspace']\n",
    "\n",
    "try:\n",
    "    pers_claims_df = pers_claims_df.drop(DROPFIELDS, axis=1)\n",
    "except: \n",
    "    pass\n",
    "\n",
    "# Confirm revised dataframe has 35 columns after drop.\n",
    "print(f'Claims_df now has {pers_claims_df.shape[1]} columns. 35 columns are expected')"
   ]
  },
  {
   "cell_type": "markdown",
   "id": "07e92f41",
   "metadata": {},
   "source": [
    "### Cleaning Step 4: Remove Fields with no Meaningful Attributes"
   ]
  },
  {
   "cell_type": "code",
   "execution_count": 14,
   "id": "4053bc81",
   "metadata": {},
   "outputs": [],
   "source": [
    "# The id field is random id that is only used for FIMA's purposes. It is not usable to link to other data sets or for \n",
    "# information about the claim. Delete field.\n",
    "\n",
    "try:\n",
    "    pers_claims_df = pers_claims_df.drop('id', axis=1)\n",
    "except: \n",
    "    pass"
   ]
  },
  {
   "cell_type": "code",
   "execution_count": 15,
   "id": "969863c8",
   "metadata": {},
   "outputs": [],
   "source": [
    "# The reported city field is populated with a \"Temporarily Unavailable\" value. Delete field.\n",
    "\n",
    "try:\n",
    "    pers_claims_df = pers_claims_df.drop('reportedCity', axis=1)\n",
    "except: \n",
    "    pass"
   ]
  },
  {
   "cell_type": "code",
   "execution_count": 16,
   "id": "5ad3a72e",
   "metadata": {},
   "outputs": [
    {
     "name": "stdout",
     "output_type": "stream",
     "text": [
      "Claims_df now has 33 columns. 33 columns are expected\n"
     ]
    }
   ],
   "source": [
    "# Confirm the database removed two fields. The dataframe should have 33 columns.\n",
    "\n",
    "print(f'Claims_df now has {pers_claims_df.shape[1]} columns. 33 columns are expected')"
   ]
  },
  {
   "cell_type": "markdown",
   "id": "187ff1a5",
   "metadata": {},
   "source": [
    "### Cleaning Step 5: Create a Total Paid Loss Variable"
   ]
  },
  {
   "cell_type": "markdown",
   "id": "ee770f3f",
   "metadata": {},
   "source": [
    "The claims data splits claims payments into 3 categories - building losses, contents losses, and government special payments. Most analysis will likely focus on a total, so this step adds a total loss column comprised of the 3 loss components."
   ]
  },
  {
   "cell_type": "code",
   "execution_count": 17,
   "id": "a40a29ee",
   "metadata": {},
   "outputs": [],
   "source": [
    "# Replace NaN values with zeros for the 3 payment fields.\n",
    "\n",
    "pers_claims_df['amountPaidOnBuildingClaim'] = pers_claims_df['amountPaidOnBuildingClaim'].fillna(0)\n",
    "pers_claims_df['amountPaidOnContentsClaim'] = pers_claims_df['amountPaidOnContentsClaim'].fillna(0)\n",
    "pers_claims_df['amountPaidOnIncreasedCostOfComplianceClaim'] = pers_claims_df['amountPaidOnIncreasedCostOfComplianceClaim'].fillna(0)"
   ]
  },
  {
   "cell_type": "code",
   "execution_count": 18,
   "id": "2b944966",
   "metadata": {},
   "outputs": [],
   "source": [
    "# Create total loss field.\n",
    "\n",
    "pers_claims_df['Total_Loss'] = pers_claims_df['amountPaidOnBuildingClaim'] + pers_claims_df['amountPaidOnContentsClaim'] +\\\n",
    "                               pers_claims_df['amountPaidOnIncreasedCostOfComplianceClaim']"
   ]
  },
  {
   "cell_type": "code",
   "execution_count": 19,
   "id": "d7a40bac",
   "metadata": {},
   "outputs": [
    {
     "data": {
      "image/png": "[encoded data removed]",
      "text/plain": [
       "<Figure size 864x288 with 1 Axes>"
      ]
     },
     "metadata": {
      "needs_background": "light"
     },
     "output_type": "display_data"
    }
   ],
   "source": [
    "# Display the losses by year to help validate the transformation.\n",
    "plt.figure(figsize=(12,4))\n",
    "loss_year_df = pers_claims_df.groupby('yearOfLoss', as_index=False)['Total_Loss'].sum()\n",
    "\n",
    "plt.plot(loss_year_df['yearOfLoss'], loss_year_df['Total_Loss']/1000000);\n",
    "plt.title('Total Flood Losses, by Year');\n",
    "plt.ylabel('Losses ($Millions)');"
   ]
  },
  {
   "cell_type": "markdown",
   "id": "8e17e553",
   "metadata": {},
   "source": [
    "Based on the information from the Insurance Institute, the large losses in 2005, 2012, and 2017 are the result of certain events.\n",
    "\n",
    "Top 10 Most Significant Flood Events By National Flood Insurance Program Payouts (1)\n",
    "\n",
    "|Rank|Date\t    | Event\t     | Claim No.| Amount paid(M)\t| Average paid loss |\n",
    "|---|---      | ---              |---       |---              |---                |\n",
    "|1 |Aug. 2005|\tHurricane Katrina|\t168,256|16,092|     \t95,640|\n",
    "|2 |\tSep. 2017|\tHurricane Harvey|\t78,254|\t9,171|\t117,192|\n",
    "|3 |\tOct. 2012|\tSuperstorm Sandy|\t132,897|\t8,619|\t64,852|\n",
    "|4 |\tSep. 2008|\tHurricane Ike|\t47,247|\t2,670|\t56,517|\n",
    "|5 |\tAug. 2016|\tLouisiana severe storms and flooding|\t27,737|\t2,536|\t91,432|\n",
    "|6 |\tSep. 2004|\tHurricane Ivan|\t31,981|\t1,688|\t52,791|\n",
    "|7 |\tSep. 2021|\tHurricane Ida|\t28,544|\t1,589|\t55,658|\n",
    "|8 |\tSep. 2004|\tHurricane Jeanne|\t31,486|\t1,513|\t48,062|\n",
    "|9 |Aug. 2011|\tHurricane Irene|\t44,178|\t1,321|\t29,894|\n",
    "|10|\tSep. 2017|\tHurricane Irma|\t23,119|\t1,153|\t49,884|\n",
    "\n",
    "\n",
    "(1) Includes events from 1978 to December 31, 2021 as of March 9, 2022. Defined by the National Flood Insurance Program as an event that produces at least 1,500 paid losses. Stated in dollars when occurred."
   ]
  },
  {
   "cell_type": "markdown",
   "id": "3e5dfe20",
   "metadata": {},
   "source": [
    "### Step 6: Filter data to Texas Claims Only"
   ]
  },
  {
   "cell_type": "code",
   "execution_count": 52,
   "id": "65371005",
   "metadata": {},
   "outputs": [],
   "source": [
    "# Filter on TX only claims.\n",
    "tx_claims_df = pers_claims_df.loc[pers_claims_df['state']=='TX']"
   ]
  },
  {
   "cell_type": "code",
   "execution_count": 57,
   "id": "6a6233e3",
   "metadata": {},
   "outputs": [
    {
     "name": "stdout",
     "output_type": "stream",
     "text": [
      "Shape of personal df (all states): (2563487, 34)\n",
      "Shape of TX Only df: (391291, 34)\n"
     ]
    }
   ],
   "source": [
    "# Validate df.\n",
    "print(f'Shape of personal df (all states): {pers_claims_df.shape}')\n",
    "print(f'Shape of TX Only df: {tx_claims_df.shape}')"
   ]
  },
  {
   "cell_type": "code",
   "execution_count": 59,
   "id": "27f3adea",
   "metadata": {},
   "outputs": [
    {
     "data": {
      "text/plain": [
       "TX    391291\n",
       "Name: state, dtype: int64"
      ]
     },
     "execution_count": 59,
     "metadata": {},
     "output_type": "execute_result"
    }
   ],
   "source": [
    "# Validate only TX claims remain.\n",
    "tx_claims_df['state'].value_counts()"
   ]
  },
  {
   "cell_type": "markdown",
   "id": "5d048b18",
   "metadata": {},
   "source": [
    "# Milestone 3: Manipulation of a Table Scrapped from a Website"
   ]
  },
  {
   "cell_type": "markdown",
   "id": "40280a56",
   "metadata": {},
   "source": [
    "## Unites States Housing Units: \n",
    "- Housing unit counts are listed for each county in the state. A housing unit will be defined as any distinct unit with a separate eating and living quarters.\n",
    "- Data Link: https://www.indexmundi.com/facts/united-states/quick-facts/illinois/housing-units#table \n",
    "- The tables are split by state, so we will need to scrape each website page to get the housing statistics for the entire US. Starting with 2 states first.\n",
    "\n",
    "The housing units counts are only provided for a county. The table does not list a state, which we will append. Our NFIP data contains a FIPS code, which is a unique code for a particular county and state combination. Once we have the table of housing counts, we will need to append the FIPS code (obtained from the government website). FIPS will be the key used to join the housing data to our claims and policy data."
   ]
  },
  {
   "cell_type": "code",
   "execution_count": 130,
   "id": "d2b8f37e",
   "metadata": {},
   "outputs": [],
   "source": [
    "# Write a function to scrape data from the housing website. Each state has it's on url.\n",
    "\n",
    "def state_weblist(state):\n",
    "    URL = 'https://www.indexmundi.com/facts/united-states/quick-facts/'+state+'/housing-units#table'\n",
    "    try:\n",
    "        list_of_tables = pd.read_html(URL)\n",
    "        return list_of_tables[0]\n",
    "    except:\n",
    "        print(f'Printing of {state} table failed.')"
   ]
  },
  {
   "cell_type": "markdown",
   "id": "b76c81e7",
   "metadata": {},
   "source": [
    "#### Step 1: Pull table and append state value."
   ]
  },
  {
   "cell_type": "code",
   "execution_count": 131,
   "id": "5ae4c7fa",
   "metadata": {},
   "outputs": [],
   "source": [
    "# Identify two states for retreival. The dictionary value is used in the url to publish.\n",
    "\n",
    "state = {'il': 'illinois',\n",
    "         'mo': 'missouri',\n",
    "         'tx': 'texas'}\n",
    "\n",
    "# Create empty dataframe to store housing data.\n",
    "housing_df = pd.DataFrame()\n",
    "\n",
    "for key, value in state.items():\n",
    "    df = state_weblist(value)\n",
    "    df['state'] = key\n",
    "    housing_df = housing_df.append(df)"
   ]
  },
  {
   "cell_type": "code",
   "execution_count": 132,
   "id": "903e5520",
   "metadata": {},
   "outputs": [
    {
     "data": {
      "text/html": [
       "<div>\n",
       "<style scoped>\n",
       "    .dataframe tbody tr th:only-of-type {\n",
       "        vertical-align: middle;\n",
       "    }\n",
       "\n",
       "    .dataframe tbody tr th {\n",
       "        vertical-align: top;\n",
       "    }\n",
       "\n",
       "    .dataframe thead th {\n",
       "        text-align: right;\n",
       "    }\n",
       "</style>\n",
       "<table border=\"1\" class=\"dataframe\">\n",
       "  <thead>\n",
       "    <tr style=\"text-align: right;\">\n",
       "      <th></th>\n",
       "      <th>County</th>\n",
       "      <th>Value</th>\n",
       "    </tr>\n",
       "    <tr>\n",
       "      <th>state</th>\n",
       "      <th></th>\n",
       "      <th></th>\n",
       "    </tr>\n",
       "  </thead>\n",
       "  <tbody>\n",
       "    <tr>\n",
       "      <th>il</th>\n",
       "      <td>102</td>\n",
       "      <td>102</td>\n",
       "    </tr>\n",
       "    <tr>\n",
       "      <th>mo</th>\n",
       "      <td>114</td>\n",
       "      <td>114</td>\n",
       "    </tr>\n",
       "    <tr>\n",
       "      <th>tx</th>\n",
       "      <td>254</td>\n",
       "      <td>254</td>\n",
       "    </tr>\n",
       "  </tbody>\n",
       "</table>\n",
       "</div>"
      ],
      "text/plain": [
       "       County  Value\n",
       "state               \n",
       "il        102    102\n",
       "mo        114    114\n",
       "tx        254    254"
      ]
     },
     "execution_count": 132,
     "metadata": {},
     "output_type": "execute_result"
    }
   ],
   "source": [
    "# Check table by summarizing results by state.\n",
    "\n",
    "housing_df.groupby('state').count()"
   ]
  },
  {
   "cell_type": "markdown",
   "id": "d9b29d80",
   "metadata": {},
   "source": [
    "#### Step 2: Change State to Uppercase for Appending to FIPS"
   ]
  },
  {
   "cell_type": "code",
   "execution_count": 133,
   "id": "0a2e632e",
   "metadata": {},
   "outputs": [],
   "source": [
    "# Change state field to uppercase.\n",
    "\n",
    "housing_df['state'] = housing_df['state'].str.upper()"
   ]
  },
  {
   "cell_type": "code",
   "execution_count": 134,
   "id": "e4dd35db",
   "metadata": {},
   "outputs": [
    {
     "data": {
      "text/html": [
       "<div>\n",
       "<style scoped>\n",
       "    .dataframe tbody tr th:only-of-type {\n",
       "        vertical-align: middle;\n",
       "    }\n",
       "\n",
       "    .dataframe tbody tr th {\n",
       "        vertical-align: top;\n",
       "    }\n",
       "\n",
       "    .dataframe thead th {\n",
       "        text-align: right;\n",
       "    }\n",
       "</style>\n",
       "<table border=\"1\" class=\"dataframe\">\n",
       "  <thead>\n",
       "    <tr style=\"text-align: right;\">\n",
       "      <th></th>\n",
       "      <th>County</th>\n",
       "      <th>Value</th>\n",
       "      <th>state</th>\n",
       "    </tr>\n",
       "  </thead>\n",
       "  <tbody>\n",
       "    <tr>\n",
       "      <th>0</th>\n",
       "      <td>Adams</td>\n",
       "      <td>30278</td>\n",
       "      <td>IL</td>\n",
       "    </tr>\n",
       "    <tr>\n",
       "      <th>1</th>\n",
       "      <td>Alexander</td>\n",
       "      <td>3977</td>\n",
       "      <td>IL</td>\n",
       "    </tr>\n",
       "    <tr>\n",
       "      <th>2</th>\n",
       "      <td>Bond</td>\n",
       "      <td>7286</td>\n",
       "      <td>IL</td>\n",
       "    </tr>\n",
       "    <tr>\n",
       "      <th>3</th>\n",
       "      <td>Boone</td>\n",
       "      <td>20097</td>\n",
       "      <td>IL</td>\n",
       "    </tr>\n",
       "    <tr>\n",
       "      <th>4</th>\n",
       "      <td>Brown</td>\n",
       "      <td>2451</td>\n",
       "      <td>IL</td>\n",
       "    </tr>\n",
       "  </tbody>\n",
       "</table>\n",
       "</div>"
      ],
      "text/plain": [
       "      County  Value state\n",
       "0      Adams  30278    IL\n",
       "1  Alexander   3977    IL\n",
       "2       Bond   7286    IL\n",
       "3      Boone  20097    IL\n",
       "4      Brown   2451    IL"
      ]
     },
     "execution_count": 134,
     "metadata": {},
     "output_type": "execute_result"
    }
   ],
   "source": [
    "# Validate state field is uppercase.\n",
    "\n",
    "housing_df.head()"
   ]
  },
  {
   "cell_type": "markdown",
   "id": "2842186f",
   "metadata": {},
   "source": [
    "#### Step 3: Rename State Field for Case Consistency"
   ]
  },
  {
   "cell_type": "code",
   "execution_count": 135,
   "id": "6c58c226",
   "metadata": {},
   "outputs": [],
   "source": [
    "# Rename 'state' column to title case and rename 'value' to 'Housing_Counts'.\n",
    "housing_df = housing_df.rename(columns={'state': 'State', 'Value': 'Housing_Counts'})"
   ]
  },
  {
   "cell_type": "code",
   "execution_count": 136,
   "id": "d705b89b",
   "metadata": {},
   "outputs": [
    {
     "data": {
      "text/html": [
       "<div>\n",
       "<style scoped>\n",
       "    .dataframe tbody tr th:only-of-type {\n",
       "        vertical-align: middle;\n",
       "    }\n",
       "\n",
       "    .dataframe tbody tr th {\n",
       "        vertical-align: top;\n",
       "    }\n",
       "\n",
       "    .dataframe thead th {\n",
       "        text-align: right;\n",
       "    }\n",
       "</style>\n",
       "<table border=\"1\" class=\"dataframe\">\n",
       "  <thead>\n",
       "    <tr style=\"text-align: right;\">\n",
       "      <th></th>\n",
       "      <th>County</th>\n",
       "      <th>Housing_Counts</th>\n",
       "      <th>State</th>\n",
       "    </tr>\n",
       "  </thead>\n",
       "  <tbody>\n",
       "    <tr>\n",
       "      <th>0</th>\n",
       "      <td>Adams</td>\n",
       "      <td>30278</td>\n",
       "      <td>IL</td>\n",
       "    </tr>\n",
       "    <tr>\n",
       "      <th>1</th>\n",
       "      <td>Alexander</td>\n",
       "      <td>3977</td>\n",
       "      <td>IL</td>\n",
       "    </tr>\n",
       "    <tr>\n",
       "      <th>2</th>\n",
       "      <td>Bond</td>\n",
       "      <td>7286</td>\n",
       "      <td>IL</td>\n",
       "    </tr>\n",
       "    <tr>\n",
       "      <th>3</th>\n",
       "      <td>Boone</td>\n",
       "      <td>20097</td>\n",
       "      <td>IL</td>\n",
       "    </tr>\n",
       "    <tr>\n",
       "      <th>4</th>\n",
       "      <td>Brown</td>\n",
       "      <td>2451</td>\n",
       "      <td>IL</td>\n",
       "    </tr>\n",
       "  </tbody>\n",
       "</table>\n",
       "</div>"
      ],
      "text/plain": [
       "      County  Housing_Counts State\n",
       "0      Adams           30278    IL\n",
       "1  Alexander            3977    IL\n",
       "2       Bond            7286    IL\n",
       "3      Boone           20097    IL\n",
       "4      Brown            2451    IL"
      ]
     },
     "execution_count": 136,
     "metadata": {},
     "output_type": "execute_result"
    }
   ],
   "source": [
    "# Verify\n",
    "housing_df.head()"
   ]
  },
  {
   "cell_type": "markdown",
   "id": "4751c6d3",
   "metadata": {},
   "source": [
    "#### Step 4: Load FIPS file and append fips field."
   ]
  },
  {
   "cell_type": "code",
   "execution_count": 137,
   "id": "ca6e0a16",
   "metadata": {},
   "outputs": [],
   "source": [
    "# Load fips data\n",
    "\n",
    "FILE = 'fips_code.csv'\n",
    "\n",
    "fips_df = pd.read_csv(FILE, names=['FIPS','County', 'State'], header=0)"
   ]
  },
  {
   "cell_type": "code",
   "execution_count": 138,
   "id": "261abe41",
   "metadata": {},
   "outputs": [
    {
     "data": {
      "text/html": [
       "<div>\n",
       "<style scoped>\n",
       "    .dataframe tbody tr th:only-of-type {\n",
       "        vertical-align: middle;\n",
       "    }\n",
       "\n",
       "    .dataframe tbody tr th {\n",
       "        vertical-align: top;\n",
       "    }\n",
       "\n",
       "    .dataframe thead th {\n",
       "        text-align: right;\n",
       "    }\n",
       "</style>\n",
       "<table border=\"1\" class=\"dataframe\">\n",
       "  <thead>\n",
       "    <tr style=\"text-align: right;\">\n",
       "      <th></th>\n",
       "      <th>FIPS</th>\n",
       "      <th>County</th>\n",
       "      <th>State</th>\n",
       "    </tr>\n",
       "  </thead>\n",
       "  <tbody>\n",
       "    <tr>\n",
       "      <th>0</th>\n",
       "      <td>1001</td>\n",
       "      <td>Autauga</td>\n",
       "      <td>AL</td>\n",
       "    </tr>\n",
       "    <tr>\n",
       "      <th>1</th>\n",
       "      <td>1003</td>\n",
       "      <td>Baldwin</td>\n",
       "      <td>AL</td>\n",
       "    </tr>\n",
       "    <tr>\n",
       "      <th>2</th>\n",
       "      <td>1005</td>\n",
       "      <td>Barbour</td>\n",
       "      <td>AL</td>\n",
       "    </tr>\n",
       "    <tr>\n",
       "      <th>3</th>\n",
       "      <td>1007</td>\n",
       "      <td>Bibb</td>\n",
       "      <td>AL</td>\n",
       "    </tr>\n",
       "    <tr>\n",
       "      <th>4</th>\n",
       "      <td>1009</td>\n",
       "      <td>Blount</td>\n",
       "      <td>AL</td>\n",
       "    </tr>\n",
       "  </tbody>\n",
       "</table>\n",
       "</div>"
      ],
      "text/plain": [
       "   FIPS   County State\n",
       "0  1001  Autauga    AL\n",
       "1  1003  Baldwin    AL\n",
       "2  1005  Barbour    AL\n",
       "3  1007     Bibb    AL\n",
       "4  1009   Blount    AL"
      ]
     },
     "execution_count": 138,
     "metadata": {},
     "output_type": "execute_result"
    }
   ],
   "source": [
    "# Verify fips df load.\n",
    "\n",
    "fips_df.head()"
   ]
  },
  {
   "cell_type": "code",
   "execution_count": 139,
   "id": "a3006980",
   "metadata": {},
   "outputs": [],
   "source": [
    "# Merge FIPS to our list of housing counts by county and state.\n",
    "\n",
    "housing_df1 = housing_df.merge(fips_df, how='left', on=['County', 'State'])"
   ]
  },
  {
   "cell_type": "code",
   "execution_count": 140,
   "id": "c5ac0499",
   "metadata": {},
   "outputs": [
    {
     "data": {
      "text/html": [
       "<div>\n",
       "<style scoped>\n",
       "    .dataframe tbody tr th:only-of-type {\n",
       "        vertical-align: middle;\n",
       "    }\n",
       "\n",
       "    .dataframe tbody tr th {\n",
       "        vertical-align: top;\n",
       "    }\n",
       "\n",
       "    .dataframe thead th {\n",
       "        text-align: right;\n",
       "    }\n",
       "</style>\n",
       "<table border=\"1\" class=\"dataframe\">\n",
       "  <thead>\n",
       "    <tr style=\"text-align: right;\">\n",
       "      <th></th>\n",
       "      <th>County</th>\n",
       "      <th>Housing_Counts</th>\n",
       "      <th>State</th>\n",
       "      <th>FIPS</th>\n",
       "    </tr>\n",
       "  </thead>\n",
       "  <tbody>\n",
       "    <tr>\n",
       "      <th>0</th>\n",
       "      <td>Adams</td>\n",
       "      <td>30278</td>\n",
       "      <td>IL</td>\n",
       "      <td>17001</td>\n",
       "    </tr>\n",
       "    <tr>\n",
       "      <th>1</th>\n",
       "      <td>Alexander</td>\n",
       "      <td>3977</td>\n",
       "      <td>IL</td>\n",
       "      <td>17003</td>\n",
       "    </tr>\n",
       "    <tr>\n",
       "      <th>2</th>\n",
       "      <td>Bond</td>\n",
       "      <td>7286</td>\n",
       "      <td>IL</td>\n",
       "      <td>17005</td>\n",
       "    </tr>\n",
       "    <tr>\n",
       "      <th>3</th>\n",
       "      <td>Boone</td>\n",
       "      <td>20097</td>\n",
       "      <td>IL</td>\n",
       "      <td>17007</td>\n",
       "    </tr>\n",
       "    <tr>\n",
       "      <th>4</th>\n",
       "      <td>Brown</td>\n",
       "      <td>2451</td>\n",
       "      <td>IL</td>\n",
       "      <td>17009</td>\n",
       "    </tr>\n",
       "  </tbody>\n",
       "</table>\n",
       "</div>"
      ],
      "text/plain": [
       "      County  Housing_Counts State   FIPS\n",
       "0      Adams           30278    IL  17001\n",
       "1  Alexander            3977    IL  17003\n",
       "2       Bond            7286    IL  17005\n",
       "3      Boone           20097    IL  17007\n",
       "4      Brown            2451    IL  17009"
      ]
     },
     "execution_count": 140,
     "metadata": {},
     "output_type": "execute_result"
    }
   ],
   "source": [
    "# Verify proper merge of fips to our housing values data set.\n",
    "\n",
    "housing_df1.head()"
   ]
  },
  {
   "cell_type": "code",
   "execution_count": 141,
   "id": "26a4ecf9",
   "metadata": {},
   "outputs": [
    {
     "data": {
      "text/plain": [
       "County            0\n",
       "Housing_Counts    0\n",
       "State             0\n",
       "FIPS              0\n",
       "dtype: int64"
      ]
     },
     "execution_count": 141,
     "metadata": {},
     "output_type": "execute_result"
    }
   ],
   "source": [
    "# Verify no blank fips codes.\n",
    "housing_df1.isnull().sum()"
   ]
  },
  {
   "cell_type": "markdown",
   "id": "fe851c3d",
   "metadata": {},
   "source": [
    "#### Step 5: Change Type of FIPS to String from a Number"
   ]
  },
  {
   "cell_type": "code",
   "execution_count": 142,
   "id": "908ef978",
   "metadata": {},
   "outputs": [
    {
     "name": "stdout",
     "output_type": "stream",
     "text": [
      "<class 'pandas.core.frame.DataFrame'>\n",
      "Int64Index: 470 entries, 0 to 469\n",
      "Data columns (total 4 columns):\n",
      " #   Column          Non-Null Count  Dtype \n",
      "---  ------          --------------  ----- \n",
      " 0   County          470 non-null    object\n",
      " 1   Housing_Counts  470 non-null    int64 \n",
      " 2   State           470 non-null    object\n",
      " 3   FIPS            470 non-null    int64 \n",
      "dtypes: int64(2), object(2)\n",
      "memory usage: 18.4+ KB\n"
     ]
    }
   ],
   "source": [
    "# Check dtype of housing dataframe.\n",
    "housing_df1.info()"
   ]
  },
  {
   "cell_type": "code",
   "execution_count": 143,
   "id": "9a492cfd",
   "metadata": {},
   "outputs": [
    {
     "data": {
      "text/plain": [
       "0      17001\n",
       "1      17003\n",
       "2      17005\n",
       "3      17007\n",
       "4      17009\n",
       "       ...  \n",
       "465    48499\n",
       "466    48501\n",
       "467    48503\n",
       "468    48505\n",
       "469    48507\n",
       "Name: FIPS, Length: 470, dtype: object"
      ]
     },
     "execution_count": 143,
     "metadata": {},
     "output_type": "execute_result"
    }
   ],
   "source": [
    "# FIPS is not an integer. Need to convert type to object.\n",
    "\n",
    "housing_df1['FIPS'] = housing_df1['FIPS'].astype('object')\n",
    "\n",
    "# Verify output is whole value and does not contain decimals.\n",
    "\n",
    "housing_df1['FIPS']"
   ]
  },
  {
   "cell_type": "markdown",
   "id": "00761ebd",
   "metadata": {},
   "source": [
    "# Milestone 4: Manipulating Data Source from API"
   ]
  },
  {
   "cell_type": "markdown",
   "id": "c187cfbb",
   "metadata": {},
   "source": [
    "## National Flood Insurance Program (NFIP) Policies: \n",
    "- This data provides a listing of all policies issued by the government-run flood program, the NFIP. The data includes information about the location and building descriptors for each covered policy. Pricing per policy is also included, which will aid in the assessment of risk (higher average prices are likely to occur in areas with high flood risk).\n",
    "- This data set is available through an API and csv. We will use the API for this project. \n",
    "- The file is available here: https://www.fema.gov/openfema-data-page/fima-nfip-redacted-policies-v1\n",
    "\n",
    "In pulling the data, there are certain parameters we need to adjust to get the data. URL parameters include:\n",
    "- \"\\$metadata=off\": Removes metadata at the start of the json return.\n",
    "- \"\\$select\": This allows us to select which fields we return in our dataframe. Because some overlap with claims data, we will only return certain fields.\n",
    "- \"\\$skip=x\": The API only allows for 1000 records to be run at a time. We will need to write a function to iterate API calls to ensure we return all rows in our data.\n",
    "- \"\\$filter=x\": Limiting our data to TX and for years after 2018. The API call is very slow so the project will need to be scaled down to avoid large run times."
   ]
  },
  {
   "cell_type": "code",
   "execution_count": 112,
   "id": "46eeeabf",
   "metadata": {},
   "outputs": [],
   "source": [
    "# Run query of the NFIP policy database, using Requests library. Parameters are noted above.\n",
    "\n",
    "base_url = \"https://www.fema.gov/api/open/v1/FimaNfipPolicies\"\n",
    "no_meta = \"$metadata=off\"\n",
    "select_fields = \"$select=countyCode,policyEffectiveDate,policyCost,policyCount,totalBuildingInsuranceCoverage,totalContentsInsuranceCoverage,totalInsurancePremiumOfThePolicy\"\n",
    "filter_cols=\"$filter=(propertyState eq'TX' and policyEffectiveDate ge'2018-01-01T01:00:00.000z')\"\n",
    "\n",
    "# Create request string of repeated parameters\n",
    "URL = base_url+\"?\"+filter_cols+\"&\"+select_fields+\"&\"+no_meta"
   ]
  },
  {
   "cell_type": "code",
   "execution_count": 113,
   "id": "e2f9dae1",
   "metadata": {},
   "outputs": [],
   "source": [
    "# Write a function to iterate API calls in chunks of 1000 (which is API limit)\n",
    "\n",
    "def API_call(records=10000):\n",
    "    '''\n",
    "    The function will iterate API calls, pulling 1000 records at a time. Records will be appended\n",
    "    to the full_records dataframe. Error checking will be in place: API call errors will return a note\n",
    "    informing users to rerun while any missing chunks will be counted and printed for users. Large\n",
    "    chunks should be rerun.\n",
    "    '''\n",
    "    columns = ['countyCode','policyEffectiveDate','policyCost','policyCount','totalBuildingInsuranceCoverage',\n",
    "                       'totalContentsInsuranceCoverage','totalInsurancePremiumOfThePolicy']    \n",
    "    full_records = pd.DataFrame(columns=columns)\n",
    "    error_count = 0\n",
    "    skip_count = 0\n",
    "    \n",
    "    while skip_count < records:\n",
    "            \n",
    "        try:\n",
    "            chunk = requests.get(URL+'&$skip='+str(skip_count))\n",
    "            if chunk.status_code==200:\n",
    "                nfip_chunk = chunk.json()['FimaNfipPolicies']    # Filter applied to get to second level where data is stored.\n",
    "                nfip_df = pd.DataFrame(nfip_chunk)\n",
    "                full_records = pd.concat((full_records, nfip_df), axis=0, ignore_index=True)\n",
    "            else:\n",
    "                error_count+=1\n",
    "\n",
    "        except:\n",
    "            print(\"Something went wrong. Try again\")\n",
    "        \n",
    "        # Increase count by 1000 to pull next chunk.\n",
    "        skip_count += 1000\n",
    "\n",
    "    # Communicate any errors that occurred during load.\n",
    "    print(f'Number of errors: {error_count}')\n",
    "    \n",
    "    # Return dataframe for use.\n",
    "    return full_records"
   ]
  },
  {
   "cell_type": "code",
   "execution_count": 114,
   "id": "7152d9d2",
   "metadata": {},
   "outputs": [
    {
     "name": "stdout",
     "output_type": "stream",
     "text": [
      "Number of errors: 0\n"
     ]
    }
   ],
   "source": [
    "# Run the API_call function to capture all records.\n",
    "db_records = 21830597\n",
    "\n",
    "policies_df = API_call(records=2500000)"
   ]
  },
  {
   "cell_type": "code",
   "execution_count": 115,
   "id": "142729e1",
   "metadata": {},
   "outputs": [
    {
     "data": {
      "text/html": [
       "<div>\n",
       "<style scoped>\n",
       "    .dataframe tbody tr th:only-of-type {\n",
       "        vertical-align: middle;\n",
       "    }\n",
       "\n",
       "    .dataframe tbody tr th {\n",
       "        vertical-align: top;\n",
       "    }\n",
       "\n",
       "    .dataframe thead th {\n",
       "        text-align: right;\n",
       "    }\n",
       "</style>\n",
       "<table border=\"1\" class=\"dataframe\">\n",
       "  <thead>\n",
       "    <tr style=\"text-align: right;\">\n",
       "      <th></th>\n",
       "      <th>countyCode</th>\n",
       "      <th>policyEffectiveDate</th>\n",
       "      <th>policyCost</th>\n",
       "      <th>policyCount</th>\n",
       "      <th>totalBuildingInsuranceCoverage</th>\n",
       "      <th>totalContentsInsuranceCoverage</th>\n",
       "      <th>totalInsurancePremiumOfThePolicy</th>\n",
       "      <th>id</th>\n",
       "    </tr>\n",
       "  </thead>\n",
       "  <tbody>\n",
       "    <tr>\n",
       "      <th>0</th>\n",
       "      <td>48039</td>\n",
       "      <td>2018-01-01T05:00:00.000Z</td>\n",
       "      <td>574</td>\n",
       "      <td>1</td>\n",
       "      <td>100000</td>\n",
       "      <td>40000</td>\n",
       "      <td>260</td>\n",
       "      <td>62793b769281a24e2b3d205c</td>\n",
       "    </tr>\n",
       "    <tr>\n",
       "      <th>1</th>\n",
       "      <td>48167</td>\n",
       "      <td>2018-01-01T05:00:00.000Z</td>\n",
       "      <td>450</td>\n",
       "      <td>1</td>\n",
       "      <td>250000</td>\n",
       "      <td>100000</td>\n",
       "      <td>348</td>\n",
       "      <td>62793b809281a24e2b3dfe6d</td>\n",
       "    </tr>\n",
       "    <tr>\n",
       "      <th>2</th>\n",
       "      <td>48167</td>\n",
       "      <td>2018-01-01T05:00:00.000Z</td>\n",
       "      <td>425</td>\n",
       "      <td>1</td>\n",
       "      <td>200000</td>\n",
       "      <td>80000</td>\n",
       "      <td>326</td>\n",
       "      <td>62793b809281a24e2b3e08f4</td>\n",
       "    </tr>\n",
       "    <tr>\n",
       "      <th>3</th>\n",
       "      <td>48201</td>\n",
       "      <td>2018-01-01T05:00:00.000Z</td>\n",
       "      <td>450</td>\n",
       "      <td>1</td>\n",
       "      <td>250000</td>\n",
       "      <td>100000</td>\n",
       "      <td>348</td>\n",
       "      <td>62793b879281a24e2b3e9eb7</td>\n",
       "    </tr>\n",
       "    <tr>\n",
       "      <th>4</th>\n",
       "      <td>48485</td>\n",
       "      <td>2018-01-01T05:00:00.000Z</td>\n",
       "      <td>1032</td>\n",
       "      <td>1</td>\n",
       "      <td>83400</td>\n",
       "      <td>9600</td>\n",
       "      <td>832</td>\n",
       "      <td>62793b8d9281a24e2b3f232c</td>\n",
       "    </tr>\n",
       "  </tbody>\n",
       "</table>\n",
       "</div>"
      ],
      "text/plain": [
       "  countyCode       policyEffectiveDate policyCost policyCount  \\\n",
       "0      48039  2018-01-01T05:00:00.000Z        574           1   \n",
       "1      48167  2018-01-01T05:00:00.000Z        450           1   \n",
       "2      48167  2018-01-01T05:00:00.000Z        425           1   \n",
       "3      48201  2018-01-01T05:00:00.000Z        450           1   \n",
       "4      48485  2018-01-01T05:00:00.000Z       1032           1   \n",
       "\n",
       "  totalBuildingInsuranceCoverage totalContentsInsuranceCoverage  \\\n",
       "0                         100000                          40000   \n",
       "1                         250000                         100000   \n",
       "2                         200000                          80000   \n",
       "3                         250000                         100000   \n",
       "4                          83400                           9600   \n",
       "\n",
       "  totalInsurancePremiumOfThePolicy                        id  \n",
       "0                              260  62793b769281a24e2b3d205c  \n",
       "1                              348  62793b809281a24e2b3dfe6d  \n",
       "2                              326  62793b809281a24e2b3e08f4  \n",
       "3                              348  62793b879281a24e2b3e9eb7  \n",
       "4                              832  62793b8d9281a24e2b3f232c  "
      ]
     },
     "execution_count": 115,
     "metadata": {},
     "output_type": "execute_result"
    }
   ],
   "source": [
    "# Verify data has been imported properly.\n",
    "\n",
    "policies_df.head()"
   ]
  },
  {
   "cell_type": "code",
   "execution_count": 116,
   "id": "fc2fe151",
   "metadata": {},
   "outputs": [
    {
     "data": {
      "text/plain": [
       "(2500000, 8)"
      ]
     },
     "execution_count": 116,
     "metadata": {},
     "output_type": "execute_result"
    }
   ],
   "source": [
    "# Determine full shape of dataframe\n",
    "policies_df.shape"
   ]
  },
  {
   "cell_type": "markdown",
   "id": "ff522553",
   "metadata": {},
   "source": [
    "#### Step 1: Convert ID to count. We will use this to count policies in force."
   ]
  },
  {
   "cell_type": "code",
   "execution_count": 117,
   "id": "7198abd3",
   "metadata": {},
   "outputs": [],
   "source": [
    "# Set all values to 1. We will sum these when aggregating this data set.\n",
    "\n",
    "policies_df['id'] = 1"
   ]
  },
  {
   "cell_type": "markdown",
   "id": "6eead588",
   "metadata": {},
   "source": [
    "#### Step 2: Change column title of 'id' to reflect new value"
   ]
  },
  {
   "cell_type": "code",
   "execution_count": 118,
   "id": "aec7cc75",
   "metadata": {},
   "outputs": [
    {
     "data": {
      "text/plain": [
       "Index(['County_Code', 'policyEffectiveDate', 'Total_Policy_Insurance_Cost',\n",
       "       'Units_Per_Policy', 'Building_Limits_Purchased',\n",
       "       'Contents_Limits_Purchased', 'Policy_Insurance_Premium',\n",
       "       'Policy_Sold_Count'],\n",
       "      dtype='object')"
      ]
     },
     "execution_count": 118,
     "metadata": {},
     "output_type": "execute_result"
    }
   ],
   "source": [
    "# Call new column policy count, and change old column to reflect that it's units per policy.\n",
    "\n",
    "policies_df.rename(columns = {'id': 'Policy_Sold_Count',\n",
    "                              'policyCount': 'Units_Per_Policy',\n",
    "                              'totalBuildingInsuranceCoverage': 'Building_Limits_Purchased',\n",
    "                              'countyCode': 'County_Code',\n",
    "                              'totalContentsInsuranceCoverage': 'Contents_Limits_Purchased',\n",
    "                              'totalInsurancePremiumOfThePolicy': 'Policy_Insurance_Premium',\n",
    "                              'policyCost': 'Total_Policy_Insurance_Cost'},\n",
    "                   inplace=True)\n",
    "\n",
    "# Verify new names.\n",
    "policies_df.columns"
   ]
  },
  {
   "cell_type": "markdown",
   "id": "ebd1c457",
   "metadata": {},
   "source": [
    "#### Step 3: Change Effective Date to Year"
   ]
  },
  {
   "cell_type": "code",
   "execution_count": 119,
   "id": "aa29c31f",
   "metadata": {},
   "outputs": [],
   "source": [
    "# Effective date is stored as an object. Change type to datetime.\n",
    "\n",
    "policies_df['policyEffectiveDate'] = pd.to_datetime(policies_df['policyEffectiveDate'])"
   ]
  },
  {
   "cell_type": "code",
   "execution_count": 120,
   "id": "fa6598a5",
   "metadata": {},
   "outputs": [],
   "source": [
    "# Create a year field from effective date field.\n",
    "\n",
    "policies_df['Policy_Effective_Year'] = policies_df['policyEffectiveDate'].dt.year"
   ]
  },
  {
   "cell_type": "markdown",
   "id": "75c0c306",
   "metadata": {},
   "source": [
    "#### Step 4: Drop Effective Date Column"
   ]
  },
  {
   "cell_type": "code",
   "execution_count": 121,
   "id": "e94c1748",
   "metadata": {},
   "outputs": [],
   "source": [
    "# Drop redundant effective date.\n",
    "\n",
    "try:\n",
    "    policies_df.drop('policyEffectiveDate', axis=1, inplace=True)\n",
    "except:\n",
    "    print('Dropped column did not execute.')"
   ]
  },
  {
   "cell_type": "markdown",
   "id": "92eb17f6",
   "metadata": {},
   "source": [
    "#### Step 5: Change Numerical Columns to Float"
   ]
  },
  {
   "cell_type": "code",
   "execution_count": 122,
   "id": "2e73a4d0",
   "metadata": {},
   "outputs": [],
   "source": [
    "num_cols = ['Total_Policy_Insurance_Cost', 'Units_Per_Policy', 'Building_Limits_Purchased', \n",
    "            'Contents_Limits_Purchased', 'Policy_Insurance_Premium']\n",
    "\n",
    "for c in num_cols:\n",
    "    policies_df[c] = policies_df[c].astype('float')"
   ]
  },
  {
   "cell_type": "code",
   "execution_count": 123,
   "id": "614e8a1f",
   "metadata": {},
   "outputs": [
    {
     "name": "stdout",
     "output_type": "stream",
     "text": [
      "<class 'pandas.core.frame.DataFrame'>\n",
      "RangeIndex: 2500000 entries, 0 to 2499999\n",
      "Data columns (total 8 columns):\n",
      " #   Column                       Dtype  \n",
      "---  ------                       -----  \n",
      " 0   County_Code                  object \n",
      " 1   Total_Policy_Insurance_Cost  float64\n",
      " 2   Units_Per_Policy             float64\n",
      " 3   Building_Limits_Purchased    float64\n",
      " 4   Contents_Limits_Purchased    float64\n",
      " 5   Policy_Insurance_Premium     float64\n",
      " 6   Policy_Sold_Count            int64  \n",
      " 7   Policy_Effective_Year        int64  \n",
      "dtypes: float64(5), int64(2), object(1)\n",
      "memory usage: 152.6+ MB\n"
     ]
    }
   ],
   "source": [
    "# Verify correct fields and types are in our dataframe.\n",
    "policies_df.info()"
   ]
  },
  {
   "cell_type": "markdown",
   "id": "c05badeb",
   "metadata": {},
   "source": [
    "#### Step 6: Group Data by County and Year"
   ]
  },
  {
   "cell_type": "code",
   "execution_count": 124,
   "id": "1cb7afe3",
   "metadata": {},
   "outputs": [],
   "source": [
    "# Group dataframe for consolidation with other sources.\n",
    "\n",
    "grouped_policy_df = policies_df.groupby(['County_Code', 'Policy_Effective_Year'], as_index=False)\\\n",
    "                               .agg({'Total_Policy_Insurance_Cost': np.mean,\n",
    "                                     'Units_Per_Policy': np.sum,\n",
    "                                     'Building_Limits_Purchased': np.sum,\n",
    "                                     'Contents_Limits_Purchased': np.sum,\n",
    "                                     'Policy_Insurance_Premium': np.mean,\n",
    "                                     'Policy_Sold_Count': np.sum,\n",
    "                                    })"
   ]
  },
  {
   "cell_type": "code",
   "execution_count": 125,
   "id": "8b7ca0ef",
   "metadata": {},
   "outputs": [
    {
     "data": {
      "text/html": [
       "<div>\n",
       "<style scoped>\n",
       "    .dataframe tbody tr th:only-of-type {\n",
       "        vertical-align: middle;\n",
       "    }\n",
       "\n",
       "    .dataframe tbody tr th {\n",
       "        vertical-align: top;\n",
       "    }\n",
       "\n",
       "    .dataframe thead th {\n",
       "        text-align: right;\n",
       "    }\n",
       "</style>\n",
       "<table border=\"1\" class=\"dataframe\">\n",
       "  <thead>\n",
       "    <tr style=\"text-align: right;\">\n",
       "      <th></th>\n",
       "      <th>County_Code</th>\n",
       "      <th>Policy_Effective_Year</th>\n",
       "      <th>Total_Policy_Insurance_Cost</th>\n",
       "      <th>Units_Per_Policy</th>\n",
       "      <th>Building_Limits_Purchased</th>\n",
       "      <th>Contents_Limits_Purchased</th>\n",
       "      <th>Policy_Insurance_Premium</th>\n",
       "      <th>Policy_Sold_Count</th>\n",
       "    </tr>\n",
       "  </thead>\n",
       "  <tbody>\n",
       "    <tr>\n",
       "      <th>0</th>\n",
       "      <td></td>\n",
       "      <td>2018</td>\n",
       "      <td>1042.370764</td>\n",
       "      <td>2031.0</td>\n",
       "      <td>4.015018e+08</td>\n",
       "      <td>139701200.0</td>\n",
       "      <td>775.486596</td>\n",
       "      <td>1977</td>\n",
       "    </tr>\n",
       "    <tr>\n",
       "      <th>1</th>\n",
       "      <td></td>\n",
       "      <td>2019</td>\n",
       "      <td>982.291101</td>\n",
       "      <td>2713.0</td>\n",
       "      <td>5.652844e+08</td>\n",
       "      <td>200235000.0</td>\n",
       "      <td>734.388009</td>\n",
       "      <td>2652</td>\n",
       "    </tr>\n",
       "    <tr>\n",
       "      <th>2</th>\n",
       "      <td></td>\n",
       "      <td>2020</td>\n",
       "      <td>770.583605</td>\n",
       "      <td>5575.0</td>\n",
       "      <td>1.234325e+09</td>\n",
       "      <td>466689300.0</td>\n",
       "      <td>567.490569</td>\n",
       "      <td>5514</td>\n",
       "    </tr>\n",
       "    <tr>\n",
       "      <th>3</th>\n",
       "      <td></td>\n",
       "      <td>2021</td>\n",
       "      <td>807.950755</td>\n",
       "      <td>1547.0</td>\n",
       "      <td>3.460735e+08</td>\n",
       "      <td>121923900.0</td>\n",
       "      <td>594.995404</td>\n",
       "      <td>1523</td>\n",
       "    </tr>\n",
       "    <tr>\n",
       "      <th>4</th>\n",
       "      <td>22019</td>\n",
       "      <td>2018</td>\n",
       "      <td>591.000000</td>\n",
       "      <td>1.0</td>\n",
       "      <td>1.250000e+05</td>\n",
       "      <td>50000.0</td>\n",
       "      <td>275.000000</td>\n",
       "      <td>1</td>\n",
       "    </tr>\n",
       "  </tbody>\n",
       "</table>\n",
       "</div>"
      ],
      "text/plain": [
       "  County_Code  Policy_Effective_Year  Total_Policy_Insurance_Cost  \\\n",
       "0                               2018                  1042.370764   \n",
       "1                               2019                   982.291101   \n",
       "2                               2020                   770.583605   \n",
       "3                               2021                   807.950755   \n",
       "4       22019                   2018                   591.000000   \n",
       "\n",
       "   Units_Per_Policy  Building_Limits_Purchased  Contents_Limits_Purchased  \\\n",
       "0            2031.0               4.015018e+08                139701200.0   \n",
       "1            2713.0               5.652844e+08                200235000.0   \n",
       "2            5575.0               1.234325e+09                466689300.0   \n",
       "3            1547.0               3.460735e+08                121923900.0   \n",
       "4               1.0               1.250000e+05                    50000.0   \n",
       "\n",
       "   Policy_Insurance_Premium  Policy_Sold_Count  \n",
       "0                775.486596               1977  \n",
       "1                734.388009               2652  \n",
       "2                567.490569               5514  \n",
       "3                594.995404               1523  \n",
       "4                275.000000                  1  "
      ]
     },
     "execution_count": 125,
     "metadata": {},
     "output_type": "execute_result"
    }
   ],
   "source": [
    "# Verify grouped data.\n",
    "\n",
    "grouped_policy_df.head()"
   ]
  },
  {
   "cell_type": "markdown",
   "id": "8a9803eb",
   "metadata": {},
   "source": [
    "# Milestone 5: Save Processed Files to CSV"
   ]
  },
  {
   "cell_type": "markdown",
   "id": "457e4ca5",
   "metadata": {},
   "source": [
    "The three data sets were run and processed as documented above. Files are saved to CSV and will be picked up in the 'SQLProcessing' notebook."
   ]
  },
  {
   "cell_type": "code",
   "execution_count": 62,
   "id": "3747e01f",
   "metadata": {},
   "outputs": [],
   "source": [
    "# Print TX Claims dataframe to csv.\n",
    "\n",
    "tx_claims_df.to_csv('tx_claims_df.csv', index=False)"
   ]
  },
  {
   "cell_type": "code",
   "execution_count": 144,
   "id": "ba05d4bc",
   "metadata": {},
   "outputs": [],
   "source": [
    "# Print Housing Counts dataframe to csv.\n",
    "\n",
    "housing_df1.to_csv('housing_df.csv')"
   ]
  },
  {
   "cell_type": "code",
   "execution_count": 126,
   "id": "4518f9ee",
   "metadata": {},
   "outputs": [],
   "source": [
    "# Print Policy Data dataframe to csv.\n",
    "\n",
    "grouped_policy_df.to_csv('tx_policy_df.csv')"
   ]
  },
  {
   "cell_type": "code",
   "execution_count": null,
   "id": "ed6497ac",
   "metadata": {},
   "outputs": [],
   "source": []
  }
 ],
 "metadata": {
  "kernelspec": {
   "display_name": "Python 3 (ipykernel)",
   "language": "python",
   "name": "python3"
  },
  "language_info": {
   "codemirror_mode": {
    "name": "ipython",
    "version": 3
   },
   "file_extension": ".py",
   "mimetype": "text/x-python",
   "name": "python",
   "nbconvert_exporter": "python",
   "pygments_lexer": "ipython3",
   "version": "3.9.7"
  }
 },
 "nbformat": 4,
 "nbformat_minor": 5
}
