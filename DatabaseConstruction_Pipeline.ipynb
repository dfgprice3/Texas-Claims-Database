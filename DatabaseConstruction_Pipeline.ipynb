{
 "cells": [
  {
   "cell_type": "markdown",
   "id": "ea0b3d66",
   "metadata": {},
   "source": [
    "**Name:** Don Price<br>\n",
    "**Assignment:** Final Project - Milestone 5<br>\n",
    "**Class:** DSC 540"
   ]
  },
  {
   "cell_type": "code",
   "execution_count": 1,
   "id": "eddc8609",
   "metadata": {},
   "outputs": [],
   "source": [
    "import numpy as np\n",
    "import pandas as pd\n",
    "import re\n",
    "\n",
    "import matplotlib.pyplot as plt\n",
    "import seaborn as sns\n",
    "\n",
    "import sqlite3\n",
    "from sqlalchemy import create_engine"
   ]
  },
  {
   "cell_type": "markdown",
   "id": "29aaaf53",
   "metadata": {},
   "source": [
    "### Import Datafiles Constructed in Milestones 1-4\n",
    "See 'DataProcessing' notebooks for details on data sources, download processes, and data processing. These sources will be ingested into our SQL database for analysis."
   ]
  },
  {
   "cell_type": "code",
   "execution_count": 2,
   "id": "3d8d562f",
   "metadata": {},
   "outputs": [],
   "source": [
    "# Identify files.\n",
    "\n",
    "POLICYFILE = 'tx_policy_df.csv'\n",
    "CLAIMSFILE = 'tx_claims_df.csv'\n",
    "EXPOSUREFILE = 'housing_df.csv'\n",
    "\n",
    "# Load csv files to dataframes.\n",
    "\n",
    "policy_df = pd.read_csv(POLICYFILE, index_col=0, dtype={'County_Code': str})\n",
    "claims_df = pd.read_csv(CLAIMSFILE, dtype={'countyCode': str})\n",
    "exposure_df = pd.read_csv(EXPOSUREFILE, index_col=0, dtype={'FIPS': str})"
   ]
  },
  {
   "cell_type": "code",
   "execution_count": 3,
   "id": "a1514e32",
   "metadata": {},
   "outputs": [
    {
     "name": "stdout",
     "output_type": "stream",
     "text": [
      "Shape: (912, 8)\n"
     ]
    }
   ],
   "source": [
    "# Verify policy df loaded properly.\n",
    "print(f'Shape: {policy_df.shape}')"
   ]
  },
  {
   "cell_type": "code",
   "execution_count": 4,
   "id": "4e1dd9b1",
   "metadata": {},
   "outputs": [
    {
     "data": {
      "text/html": [
       "<div>\n",
       "<style scoped>\n",
       "    .dataframe tbody tr th:only-of-type {\n",
       "        vertical-align: middle;\n",
       "    }\n",
       "\n",
       "    .dataframe tbody tr th {\n",
       "        vertical-align: top;\n",
       "    }\n",
       "\n",
       "    .dataframe thead th {\n",
       "        text-align: right;\n",
       "    }\n",
       "</style>\n",
       "<table border=\"1\" class=\"dataframe\">\n",
       "  <thead>\n",
       "    <tr style=\"text-align: right;\">\n",
       "      <th></th>\n",
       "      <th>County_Code</th>\n",
       "      <th>Policy_Effective_Year</th>\n",
       "      <th>Total_Policy_Insurance_Cost</th>\n",
       "      <th>Units_Per_Policy</th>\n",
       "      <th>Building_Limits_Purchased</th>\n",
       "      <th>Contents_Limits_Purchased</th>\n",
       "      <th>Policy_Insurance_Premium</th>\n",
       "      <th>Policy_Sold_Count</th>\n",
       "    </tr>\n",
       "  </thead>\n",
       "  <tbody>\n",
       "    <tr>\n",
       "      <th>0</th>\n",
       "      <td>NaN</td>\n",
       "      <td>2018</td>\n",
       "      <td>1042.370764</td>\n",
       "      <td>2031.0</td>\n",
       "      <td>4.015018e+08</td>\n",
       "      <td>139701200.0</td>\n",
       "      <td>775.486596</td>\n",
       "      <td>1977</td>\n",
       "    </tr>\n",
       "    <tr>\n",
       "      <th>1</th>\n",
       "      <td>NaN</td>\n",
       "      <td>2019</td>\n",
       "      <td>982.291101</td>\n",
       "      <td>2713.0</td>\n",
       "      <td>5.652844e+08</td>\n",
       "      <td>200235000.0</td>\n",
       "      <td>734.388009</td>\n",
       "      <td>2652</td>\n",
       "    </tr>\n",
       "    <tr>\n",
       "      <th>2</th>\n",
       "      <td>NaN</td>\n",
       "      <td>2020</td>\n",
       "      <td>770.583605</td>\n",
       "      <td>5575.0</td>\n",
       "      <td>1.234325e+09</td>\n",
       "      <td>466689300.0</td>\n",
       "      <td>567.490569</td>\n",
       "      <td>5514</td>\n",
       "    </tr>\n",
       "    <tr>\n",
       "      <th>3</th>\n",
       "      <td>NaN</td>\n",
       "      <td>2021</td>\n",
       "      <td>807.950755</td>\n",
       "      <td>1547.0</td>\n",
       "      <td>3.460735e+08</td>\n",
       "      <td>121923900.0</td>\n",
       "      <td>594.995404</td>\n",
       "      <td>1523</td>\n",
       "    </tr>\n",
       "    <tr>\n",
       "      <th>4</th>\n",
       "      <td>22019</td>\n",
       "      <td>2018</td>\n",
       "      <td>591.000000</td>\n",
       "      <td>1.0</td>\n",
       "      <td>1.250000e+05</td>\n",
       "      <td>50000.0</td>\n",
       "      <td>275.000000</td>\n",
       "      <td>1</td>\n",
       "    </tr>\n",
       "  </tbody>\n",
       "</table>\n",
       "</div>"
      ],
      "text/plain": [
       "  County_Code  Policy_Effective_Year  Total_Policy_Insurance_Cost  \\\n",
       "0         NaN                   2018                  1042.370764   \n",
       "1         NaN                   2019                   982.291101   \n",
       "2         NaN                   2020                   770.583605   \n",
       "3         NaN                   2021                   807.950755   \n",
       "4       22019                   2018                   591.000000   \n",
       "\n",
       "   Units_Per_Policy  Building_Limits_Purchased  Contents_Limits_Purchased  \\\n",
       "0            2031.0               4.015018e+08                139701200.0   \n",
       "1            2713.0               5.652844e+08                200235000.0   \n",
       "2            5575.0               1.234325e+09                466689300.0   \n",
       "3            1547.0               3.460735e+08                121923900.0   \n",
       "4               1.0               1.250000e+05                    50000.0   \n",
       "\n",
       "   Policy_Insurance_Premium  Policy_Sold_Count  \n",
       "0                775.486596               1977  \n",
       "1                734.388009               2652  \n",
       "2                567.490569               5514  \n",
       "3                594.995404               1523  \n",
       "4                275.000000                  1  "
      ]
     },
     "execution_count": 4,
     "metadata": {},
     "output_type": "execute_result"
    }
   ],
   "source": [
    "policy_df.head()"
   ]
  },
  {
   "cell_type": "code",
   "execution_count": 5,
   "id": "67829176",
   "metadata": {},
   "outputs": [
    {
     "name": "stdout",
     "output_type": "stream",
     "text": [
      "Shape: (391291, 34)\n"
     ]
    }
   ],
   "source": [
    "# Verify claims df loaded properly.\n",
    "print(f'Shape: {claims_df.shape}')"
   ]
  },
  {
   "cell_type": "code",
   "execution_count": 6,
   "id": "b03c76f3",
   "metadata": {},
   "outputs": [
    {
     "data": {
      "text/html": [
       "<div>\n",
       "<style scoped>\n",
       "    .dataframe tbody tr th:only-of-type {\n",
       "        vertical-align: middle;\n",
       "    }\n",
       "\n",
       "    .dataframe tbody tr th {\n",
       "        vertical-align: top;\n",
       "    }\n",
       "\n",
       "    .dataframe thead th {\n",
       "        text-align: right;\n",
       "    }\n",
       "</style>\n",
       "<table border=\"1\" class=\"dataframe\">\n",
       "  <thead>\n",
       "    <tr style=\"text-align: right;\">\n",
       "      <th></th>\n",
       "      <th>agricultureStructureIndicator</th>\n",
       "      <th>asOfDate</th>\n",
       "      <th>condominiumIndicator</th>\n",
       "      <th>policyCount</th>\n",
       "      <th>countyCode</th>\n",
       "      <th>communityRatingSystemDiscount</th>\n",
       "      <th>dateOfLoss</th>\n",
       "      <th>elevatedBuildingIndicator</th>\n",
       "      <th>censusTract</th>\n",
       "      <th>floodZone</th>\n",
       "      <th>...</th>\n",
       "      <th>postFIRMConstructionIndicator</th>\n",
       "      <th>rateMethod</th>\n",
       "      <th>smallBusinessIndicatorBuilding</th>\n",
       "      <th>state</th>\n",
       "      <th>totalBuildingInsuranceCoverage</th>\n",
       "      <th>totalContentsInsuranceCoverage</th>\n",
       "      <th>yearOfLoss</th>\n",
       "      <th>reportedZipcode</th>\n",
       "      <th>primaryResidence</th>\n",
       "      <th>Total_Loss</th>\n",
       "    </tr>\n",
       "  </thead>\n",
       "  <tbody>\n",
       "    <tr>\n",
       "      <th>0</th>\n",
       "      <td>0.0</td>\n",
       "      <td>2021-11-21 00:34:48.052000+00:00</td>\n",
       "      <td>N</td>\n",
       "      <td>1.0</td>\n",
       "      <td>48201.0</td>\n",
       "      <td>5.0</td>\n",
       "      <td>2001-06-09 04:00:00+00:00</td>\n",
       "      <td>0.0</td>\n",
       "      <td>4.820141e+10</td>\n",
       "      <td>AE</td>\n",
       "      <td>...</td>\n",
       "      <td>1.0</td>\n",
       "      <td>1</td>\n",
       "      <td>0.0</td>\n",
       "      <td>TX</td>\n",
       "      <td>25000.0</td>\n",
       "      <td>25000.0</td>\n",
       "      <td>2001</td>\n",
       "      <td>77025.0</td>\n",
       "      <td>1.0</td>\n",
       "      <td>0.00</td>\n",
       "    </tr>\n",
       "    <tr>\n",
       "      <th>1</th>\n",
       "      <td>0.0</td>\n",
       "      <td>2021-07-25 01:39:04.381000+00:00</td>\n",
       "      <td>N</td>\n",
       "      <td>1.0</td>\n",
       "      <td>48201.0</td>\n",
       "      <td>7.0</td>\n",
       "      <td>2006-06-19 04:00:00+00:00</td>\n",
       "      <td>0.0</td>\n",
       "      <td>4.820123e+10</td>\n",
       "      <td>X</td>\n",
       "      <td>...</td>\n",
       "      <td>1.0</td>\n",
       "      <td>7</td>\n",
       "      <td>0.0</td>\n",
       "      <td>TX</td>\n",
       "      <td>150000.0</td>\n",
       "      <td>60000.0</td>\n",
       "      <td>2006</td>\n",
       "      <td>77015.0</td>\n",
       "      <td>1.0</td>\n",
       "      <td>0.00</td>\n",
       "    </tr>\n",
       "    <tr>\n",
       "      <th>2</th>\n",
       "      <td>0.0</td>\n",
       "      <td>2021-07-25 01:39:04.381000+00:00</td>\n",
       "      <td>N</td>\n",
       "      <td>1.0</td>\n",
       "      <td>48439.0</td>\n",
       "      <td>8.0</td>\n",
       "      <td>1992-06-28 04:00:00+00:00</td>\n",
       "      <td>0.0</td>\n",
       "      <td>4.843911e+10</td>\n",
       "      <td>X</td>\n",
       "      <td>...</td>\n",
       "      <td>0.0</td>\n",
       "      <td>7</td>\n",
       "      <td>0.0</td>\n",
       "      <td>TX</td>\n",
       "      <td>20000.0</td>\n",
       "      <td>5000.0</td>\n",
       "      <td>1992</td>\n",
       "      <td>76112.0</td>\n",
       "      <td>0.0</td>\n",
       "      <td>355.03</td>\n",
       "    </tr>\n",
       "    <tr>\n",
       "      <th>3</th>\n",
       "      <td>0.0</td>\n",
       "      <td>2021-11-21 00:34:48.052000+00:00</td>\n",
       "      <td>N</td>\n",
       "      <td>1.0</td>\n",
       "      <td>48201.0</td>\n",
       "      <td>7.0</td>\n",
       "      <td>2008-09-12 04:00:00+00:00</td>\n",
       "      <td>0.0</td>\n",
       "      <td>4.820125e+10</td>\n",
       "      <td>X</td>\n",
       "      <td>...</td>\n",
       "      <td>1.0</td>\n",
       "      <td>7</td>\n",
       "      <td>0.0</td>\n",
       "      <td>TX</td>\n",
       "      <td>125000.0</td>\n",
       "      <td>50000.0</td>\n",
       "      <td>2008</td>\n",
       "      <td>77346.0</td>\n",
       "      <td>1.0</td>\n",
       "      <td>0.00</td>\n",
       "    </tr>\n",
       "    <tr>\n",
       "      <th>4</th>\n",
       "      <td>0.0</td>\n",
       "      <td>2021-12-11 23:44:01.395000+00:00</td>\n",
       "      <td>N</td>\n",
       "      <td>1.0</td>\n",
       "      <td>48201.0</td>\n",
       "      <td>6.0</td>\n",
       "      <td>1998-01-21 05:00:00+00:00</td>\n",
       "      <td>0.0</td>\n",
       "      <td>4.820125e+10</td>\n",
       "      <td>X</td>\n",
       "      <td>...</td>\n",
       "      <td>0.0</td>\n",
       "      <td>1</td>\n",
       "      <td>0.0</td>\n",
       "      <td>TX</td>\n",
       "      <td>126800.0</td>\n",
       "      <td>26900.0</td>\n",
       "      <td>1998</td>\n",
       "      <td>77521.0</td>\n",
       "      <td>1.0</td>\n",
       "      <td>4401.81</td>\n",
       "    </tr>\n",
       "  </tbody>\n",
       "</table>\n",
       "<p>5 rows × 34 columns</p>\n",
       "</div>"
      ],
      "text/plain": [
       "   agricultureStructureIndicator                          asOfDate  \\\n",
       "0                            0.0  2021-11-21 00:34:48.052000+00:00   \n",
       "1                            0.0  2021-07-25 01:39:04.381000+00:00   \n",
       "2                            0.0  2021-07-25 01:39:04.381000+00:00   \n",
       "3                            0.0  2021-11-21 00:34:48.052000+00:00   \n",
       "4                            0.0  2021-12-11 23:44:01.395000+00:00   \n",
       "\n",
       "  condominiumIndicator  policyCount countyCode  communityRatingSystemDiscount  \\\n",
       "0                    N          1.0    48201.0                            5.0   \n",
       "1                    N          1.0    48201.0                            7.0   \n",
       "2                    N          1.0    48439.0                            8.0   \n",
       "3                    N          1.0    48201.0                            7.0   \n",
       "4                    N          1.0    48201.0                            6.0   \n",
       "\n",
       "                  dateOfLoss  elevatedBuildingIndicator   censusTract  \\\n",
       "0  2001-06-09 04:00:00+00:00                        0.0  4.820141e+10   \n",
       "1  2006-06-19 04:00:00+00:00                        0.0  4.820123e+10   \n",
       "2  1992-06-28 04:00:00+00:00                        0.0  4.843911e+10   \n",
       "3  2008-09-12 04:00:00+00:00                        0.0  4.820125e+10   \n",
       "4  1998-01-21 05:00:00+00:00                        0.0  4.820125e+10   \n",
       "\n",
       "  floodZone  ...  postFIRMConstructionIndicator  rateMethod  \\\n",
       "0        AE  ...                            1.0           1   \n",
       "1         X  ...                            1.0           7   \n",
       "2         X  ...                            0.0           7   \n",
       "3         X  ...                            1.0           7   \n",
       "4         X  ...                            0.0           1   \n",
       "\n",
       "   smallBusinessIndicatorBuilding  state  totalBuildingInsuranceCoverage  \\\n",
       "0                             0.0     TX                         25000.0   \n",
       "1                             0.0     TX                        150000.0   \n",
       "2                             0.0     TX                         20000.0   \n",
       "3                             0.0     TX                        125000.0   \n",
       "4                             0.0     TX                        126800.0   \n",
       "\n",
       "   totalContentsInsuranceCoverage  yearOfLoss  reportedZipcode  \\\n",
       "0                         25000.0        2001          77025.0   \n",
       "1                         60000.0        2006          77015.0   \n",
       "2                          5000.0        1992          76112.0   \n",
       "3                         50000.0        2008          77346.0   \n",
       "4                         26900.0        1998          77521.0   \n",
       "\n",
       "   primaryResidence Total_Loss  \n",
       "0               1.0       0.00  \n",
       "1               1.0       0.00  \n",
       "2               0.0     355.03  \n",
       "3               1.0       0.00  \n",
       "4               1.0    4401.81  \n",
       "\n",
       "[5 rows x 34 columns]"
      ]
     },
     "execution_count": 6,
     "metadata": {},
     "output_type": "execute_result"
    }
   ],
   "source": [
    "claims_df.head()"
   ]
  },
  {
   "cell_type": "code",
   "execution_count": 7,
   "id": "22ae4223",
   "metadata": {},
   "outputs": [],
   "source": [
    "# Remove \".0\" from countyCode\n",
    "\n",
    "claims_df['countyCode'] = claims_df['countyCode'].str.replace('\\.0','', regex=True)"
   ]
  },
  {
   "cell_type": "code",
   "execution_count": 8,
   "id": "ada0eaf8",
   "metadata": {},
   "outputs": [
    {
     "name": "stdout",
     "output_type": "stream",
     "text": [
      "Shape: (470, 4)\n"
     ]
    }
   ],
   "source": [
    "# Verify exposure df loaded properly\n",
    "print(f'Shape: {exposure_df.shape}')"
   ]
  },
  {
   "cell_type": "code",
   "execution_count": 9,
   "id": "39c99f78",
   "metadata": {},
   "outputs": [
    {
     "data": {
      "text/html": [
       "<div>\n",
       "<style scoped>\n",
       "    .dataframe tbody tr th:only-of-type {\n",
       "        vertical-align: middle;\n",
       "    }\n",
       "\n",
       "    .dataframe tbody tr th {\n",
       "        vertical-align: top;\n",
       "    }\n",
       "\n",
       "    .dataframe thead th {\n",
       "        text-align: right;\n",
       "    }\n",
       "</style>\n",
       "<table border=\"1\" class=\"dataframe\">\n",
       "  <thead>\n",
       "    <tr style=\"text-align: right;\">\n",
       "      <th></th>\n",
       "      <th>County</th>\n",
       "      <th>Housing_Counts</th>\n",
       "      <th>State</th>\n",
       "      <th>FIPS</th>\n",
       "    </tr>\n",
       "  </thead>\n",
       "  <tbody>\n",
       "    <tr>\n",
       "      <th>0</th>\n",
       "      <td>Adams</td>\n",
       "      <td>30278</td>\n",
       "      <td>IL</td>\n",
       "      <td>17001</td>\n",
       "    </tr>\n",
       "    <tr>\n",
       "      <th>1</th>\n",
       "      <td>Alexander</td>\n",
       "      <td>3977</td>\n",
       "      <td>IL</td>\n",
       "      <td>17003</td>\n",
       "    </tr>\n",
       "    <tr>\n",
       "      <th>2</th>\n",
       "      <td>Bond</td>\n",
       "      <td>7286</td>\n",
       "      <td>IL</td>\n",
       "      <td>17005</td>\n",
       "    </tr>\n",
       "    <tr>\n",
       "      <th>3</th>\n",
       "      <td>Boone</td>\n",
       "      <td>20097</td>\n",
       "      <td>IL</td>\n",
       "      <td>17007</td>\n",
       "    </tr>\n",
       "    <tr>\n",
       "      <th>4</th>\n",
       "      <td>Brown</td>\n",
       "      <td>2451</td>\n",
       "      <td>IL</td>\n",
       "      <td>17009</td>\n",
       "    </tr>\n",
       "  </tbody>\n",
       "</table>\n",
       "</div>"
      ],
      "text/plain": [
       "      County  Housing_Counts State   FIPS\n",
       "0      Adams           30278    IL  17001\n",
       "1  Alexander            3977    IL  17003\n",
       "2       Bond            7286    IL  17005\n",
       "3      Boone           20097    IL  17007\n",
       "4      Brown            2451    IL  17009"
      ]
     },
     "execution_count": 9,
     "metadata": {},
     "output_type": "execute_result"
    }
   ],
   "source": [
    "exposure_df.head()"
   ]
  },
  {
   "cell_type": "markdown",
   "id": "8ddb1a56",
   "metadata": {},
   "source": [
    "### Construct SQL Database with 3 Tables"
   ]
  },
  {
   "cell_type": "code",
   "execution_count": 10,
   "id": "d74e1a3d",
   "metadata": {},
   "outputs": [],
   "source": [
    "# Create SQL database engine.\n",
    "engine = create_engine('sqlite:///price_540project', echo=False)"
   ]
  },
  {
   "cell_type": "code",
   "execution_count": 11,
   "id": "11d7f31a",
   "metadata": {},
   "outputs": [],
   "source": [
    "# Convert 3 dataframes to SQL tables in the price_540project database.\n",
    "\n",
    "policy_df.to_sql(name='policy_table', con=engine, if_exists='replace')\n",
    "claims_df.to_sql(name='claims_table', con=engine, if_exists='replace')\n",
    "exposure_df.to_sql(name='exposure_table', con=engine, if_exists='replace')"
   ]
  },
  {
   "cell_type": "markdown",
   "id": "a2381275",
   "metadata": {},
   "source": [
    "### Connect to SQL Database"
   ]
  },
  {
   "cell_type": "code",
   "execution_count": 12,
   "id": "6206cb17",
   "metadata": {},
   "outputs": [],
   "source": [
    "# Create connection to \"pets.db\"\n",
    "\n",
    "conn = sqlite3.connect(\"price_540project\")\n",
    "\n",
    "# Create cursor\n",
    "\n",
    "cursor = conn.cursor()"
   ]
  },
  {
   "cell_type": "code",
   "execution_count": 13,
   "id": "c56c346f",
   "metadata": {},
   "outputs": [
    {
     "name": "stdout",
     "output_type": "stream",
     "text": [
      "Connection successful.\n"
     ]
    }
   ],
   "source": [
    "# Verify whether connection worked.\n",
    "\n",
    "try:\n",
    "    cursor.execute('SELECT * FROM policy_table')\n",
    "    print('Connection successful.')\n",
    "except:\n",
    "    print('Connection failed.')"
   ]
  },
  {
   "cell_type": "markdown",
   "id": "b04c62b8",
   "metadata": {},
   "source": [
    "### Construct Consolidated Query"
   ]
  },
  {
   "cell_type": "markdown",
   "id": "c45b3a83",
   "metadata": {},
   "source": [
    "**Procedures:**\n",
    "The claims data is available for all years, dating back to 1978. The claims data is specific to TX (filtered in prior milestones). Claims data includes insurance coverage, characteristics of homes, and details of the limits purchased. Data is aggregated by county and year.\n",
    "\n",
    "Policy data is appended to the claims data set. Less history is available for policy years, so we will join the policy table to the claims table using a left join. The join will include both the policy year and county. Policy counts and premiums will be used for this analysis.\n",
    "\n",
    "Lastly, the exposure data - 2018 number of households by county - will be used to assess total risk and concentration of risk. This data is being left joined to our claims data set using county code."
   ]
  },
  {
   "cell_type": "code",
   "execution_count": 14,
   "id": "ecf86fdb",
   "metadata": {},
   "outputs": [],
   "source": [
    "consolidated = cursor.execute('''SELECT cl.countyCode,\n",
    "                                        cl.yearOfLoss AS Loss_Year,\n",
    "                                        sum(cl.Total_Loss),\n",
    "                                        sum(cl.totalBuildingInsuranceCoverage),\n",
    "                                        sum(cl.totalContentsInsuranceCoverage),\n",
    "                                        sum(cl.amountPaidOnBuildingClaim),\n",
    "                                        sum(cl.amountPaidOnContentsClaim),\n",
    "                                        sum(pol.Policy_Sold_Count) AS Policies_Sold, \n",
    "                                        sum(pol.Policy_Insurance_Premium) AS Policy_Premium,\n",
    "                                        exp.County,\n",
    "                                        exp.Housing_Counts\n",
    "                                 FROM claims_table cl\n",
    "                                 LEFT JOIN policy_table pol ON (pol.County_Code=cl.countyCode AND\n",
    "                                                                pol.Policy_Effective_Year=cl.yearOfLoss)\n",
    "                                 LEFT JOIN exposure_table exp ON exp.FIPS=cl.countyCode\n",
    "                                 GROUP BY cl.countyCode, cl.yearOfLoss\n",
    "                              ''')"
   ]
  },
  {
   "cell_type": "code",
   "execution_count": 15,
   "id": "1da5d143",
   "metadata": {},
   "outputs": [],
   "source": [
    "cons_cols = ['County_Code', 'Year_Loss', 'Total_Loss_Amt', 'Building_Coverage_Amt', 'Contents_Coverage_Amt',\n",
    "             'Building_Loss_Amt', 'Contents_Loss_Amt', 'Policy_Sold_Count', 'Policy_Premiums', 'County_Name',\n",
    "             'Housing_Counts']\n",
    "\n",
    "cons_df = pd.DataFrame(consolidated, columns=cons_cols)"
   ]
  },
  {
   "cell_type": "code",
   "execution_count": 16,
   "id": "dc05e739",
   "metadata": {},
   "outputs": [
    {
     "data": {
      "text/html": [
       "<div>\n",
       "<style scoped>\n",
       "    .dataframe tbody tr th:only-of-type {\n",
       "        vertical-align: middle;\n",
       "    }\n",
       "\n",
       "    .dataframe tbody tr th {\n",
       "        vertical-align: top;\n",
       "    }\n",
       "\n",
       "    .dataframe thead th {\n",
       "        text-align: right;\n",
       "    }\n",
       "</style>\n",
       "<table border=\"1\" class=\"dataframe\">\n",
       "  <thead>\n",
       "    <tr style=\"text-align: right;\">\n",
       "      <th></th>\n",
       "      <th>County_Code</th>\n",
       "      <th>Year_Loss</th>\n",
       "      <th>Total_Loss_Amt</th>\n",
       "      <th>Building_Coverage_Amt</th>\n",
       "      <th>Contents_Coverage_Amt</th>\n",
       "      <th>Building_Loss_Amt</th>\n",
       "      <th>Contents_Loss_Amt</th>\n",
       "      <th>Policy_Sold_Count</th>\n",
       "      <th>Policy_Premiums</th>\n",
       "      <th>County_Name</th>\n",
       "      <th>Housing_Counts</th>\n",
       "    </tr>\n",
       "  </thead>\n",
       "  <tbody>\n",
       "    <tr>\n",
       "      <th>0</th>\n",
       "      <td>None</td>\n",
       "      <td>1978</td>\n",
       "      <td>48750.05</td>\n",
       "      <td>233100.0</td>\n",
       "      <td>133000.0</td>\n",
       "      <td>45324.74</td>\n",
       "      <td>3425.31</td>\n",
       "      <td>NaN</td>\n",
       "      <td>NaN</td>\n",
       "      <td>None</td>\n",
       "      <td>NaN</td>\n",
       "    </tr>\n",
       "    <tr>\n",
       "      <th>1</th>\n",
       "      <td>None</td>\n",
       "      <td>1979</td>\n",
       "      <td>2275483.02</td>\n",
       "      <td>9338200.0</td>\n",
       "      <td>2080100.0</td>\n",
       "      <td>1850349.19</td>\n",
       "      <td>425133.83</td>\n",
       "      <td>NaN</td>\n",
       "      <td>NaN</td>\n",
       "      <td>None</td>\n",
       "      <td>NaN</td>\n",
       "    </tr>\n",
       "    <tr>\n",
       "      <th>2</th>\n",
       "      <td>None</td>\n",
       "      <td>1980</td>\n",
       "      <td>949587.16</td>\n",
       "      <td>7309400.0</td>\n",
       "      <td>1720900.0</td>\n",
       "      <td>655491.88</td>\n",
       "      <td>294095.28</td>\n",
       "      <td>NaN</td>\n",
       "      <td>NaN</td>\n",
       "      <td>None</td>\n",
       "      <td>NaN</td>\n",
       "    </tr>\n",
       "    <tr>\n",
       "      <th>3</th>\n",
       "      <td>None</td>\n",
       "      <td>1981</td>\n",
       "      <td>749451.57</td>\n",
       "      <td>5014200.0</td>\n",
       "      <td>1118200.0</td>\n",
       "      <td>586521.63</td>\n",
       "      <td>162929.94</td>\n",
       "      <td>NaN</td>\n",
       "      <td>NaN</td>\n",
       "      <td>None</td>\n",
       "      <td>NaN</td>\n",
       "    </tr>\n",
       "    <tr>\n",
       "      <th>4</th>\n",
       "      <td>None</td>\n",
       "      <td>1982</td>\n",
       "      <td>318896.28</td>\n",
       "      <td>1663300.0</td>\n",
       "      <td>532700.0</td>\n",
       "      <td>237161.35</td>\n",
       "      <td>81734.93</td>\n",
       "      <td>NaN</td>\n",
       "      <td>NaN</td>\n",
       "      <td>None</td>\n",
       "      <td>NaN</td>\n",
       "    </tr>\n",
       "  </tbody>\n",
       "</table>\n",
       "</div>"
      ],
      "text/plain": [
       "  County_Code  Year_Loss  Total_Loss_Amt  Building_Coverage_Amt  \\\n",
       "0        None       1978        48750.05               233100.0   \n",
       "1        None       1979      2275483.02              9338200.0   \n",
       "2        None       1980       949587.16              7309400.0   \n",
       "3        None       1981       749451.57              5014200.0   \n",
       "4        None       1982       318896.28              1663300.0   \n",
       "\n",
       "   Contents_Coverage_Amt  Building_Loss_Amt  Contents_Loss_Amt  \\\n",
       "0               133000.0           45324.74            3425.31   \n",
       "1              2080100.0         1850349.19          425133.83   \n",
       "2              1720900.0          655491.88          294095.28   \n",
       "3              1118200.0          586521.63          162929.94   \n",
       "4               532700.0          237161.35           81734.93   \n",
       "\n",
       "   Policy_Sold_Count  Policy_Premiums County_Name  Housing_Counts  \n",
       "0                NaN              NaN        None             NaN  \n",
       "1                NaN              NaN        None             NaN  \n",
       "2                NaN              NaN        None             NaN  \n",
       "3                NaN              NaN        None             NaN  \n",
       "4                NaN              NaN        None             NaN  "
      ]
     },
     "execution_count": 16,
     "metadata": {},
     "output_type": "execute_result"
    }
   ],
   "source": [
    "# Verify dataframe built properly.\n",
    "\n",
    "cons_df.head()"
   ]
  },
  {
   "cell_type": "code",
   "execution_count": 17,
   "id": "be0a9940",
   "metadata": {},
   "outputs": [
    {
     "data": {
      "text/plain": [
       "(4085, 11)"
      ]
     },
     "execution_count": 17,
     "metadata": {},
     "output_type": "execute_result"
    }
   ],
   "source": [
    "# Verify dataframe shape.\n",
    "\n",
    "cons_df.shape"
   ]
  },
  {
   "cell_type": "code",
   "execution_count": 18,
   "id": "205e67c2",
   "metadata": {},
   "outputs": [
    {
     "data": {
      "text/plain": [
       "County_Code                42\n",
       "Year_Loss                   0\n",
       "Total_Loss_Amt              0\n",
       "Building_Coverage_Amt       1\n",
       "Contents_Coverage_Amt       1\n",
       "Building_Loss_Amt           0\n",
       "Contents_Loss_Amt           0\n",
       "Policy_Sold_Count        3701\n",
       "Policy_Premiums          3701\n",
       "County_Name               101\n",
       "Housing_Counts            101\n",
       "dtype: int64"
      ]
     },
     "execution_count": 18,
     "metadata": {},
     "output_type": "execute_result"
    }
   ],
   "source": [
    "# Check Nulls. \n",
    "# The nulls are expected. There is not policy data or housing counts data for several years in our claims data,\n",
    "# which dates back to 1978. Some blank counties also date to older years in the claims data, which will not affect\n",
    "# the analysis.\n",
    "\n",
    "cons_df.isnull().sum()"
   ]
  },
  {
   "cell_type": "markdown",
   "id": "32deb10a",
   "metadata": {},
   "source": [
    "### Visualizations of Exposure Analysis"
   ]
  },
  {
   "cell_type": "code",
   "execution_count": 19,
   "id": "714878a4",
   "metadata": {},
   "outputs": [],
   "source": [
    "# Run a query of exposures, joining the policy and exposure tables.\n",
    "\n",
    "exposures = cursor.execute('''SELECT pol.County_Code AS County_Code, \n",
    "                                     sum(pol.Policy_Sold_Count) AS Policies_Sold, \n",
    "                                     sum(pol.Policy_Insurance_Premium) AS Policy_Premium,\n",
    "                                     exp.County,\n",
    "                                     exp.Housing_Counts\n",
    "                              FROM policy_table pol\n",
    "                              JOIN exposure_table exp ON exp.FIPS=pol.County_Code\n",
    "                              WHERE pol.Policy_Effective_Year='2018'\n",
    "                              GROUP BY pol.County_Code\n",
    "                              ''')"
   ]
  },
  {
   "cell_type": "code",
   "execution_count": 20,
   "id": "42ee6db2",
   "metadata": {},
   "outputs": [],
   "source": [
    "# Convert SQL query to dataframe for graphing.\n",
    "\n",
    "cols = ['County_Code', 'Policies_Sold', 'Policy_Premium', 'County', 'Housing_Counts']\n",
    "exp_data = pd.DataFrame(exposures, columns=cols)"
   ]
  },
  {
   "cell_type": "code",
   "execution_count": 21,
   "id": "6023c65c",
   "metadata": {},
   "outputs": [],
   "source": [
    "# Add Average Premium metric [Policy_Premium / Policies Sold]\n",
    "exp_data['Avg_Prem'] = exp_data['Policy_Premium'] / exp_data['Policies_Sold']\n",
    "\n",
    "# Add Policies per Household field\n",
    "exp_data['Policy_Freq'] = exp_data['Policies_Sold'] / exp_data['Housing_Counts']"
   ]
  },
  {
   "cell_type": "markdown",
   "id": "09139738",
   "metadata": {},
   "source": [
    "#### Graph 1: Percentage of Homes Purchasing Insurance, by County Distribution\n",
    "Combining the exposure and policy data sets, we can measure how many homes in each county purchased flood insurance. The data shows that in most TX counties, fewer than 5% of homes purchased flood insurance in 2018. There are a small portion of counties where the number of homes that purchase flood exceed 25%. These presumably are coastal areas where hurricances and flood are likely to follow. "
   ]
  },
  {
   "cell_type": "code",
   "execution_count": 22,
   "id": "7670cc33",
   "metadata": {},
   "outputs": [
    {
     "data": {
      "image/png": "[encoded data removed]",
      "text/plain": [
       "<Figure size 864x288 with 1 Axes>"
      ]
     },
     "metadata": {
      "needs_background": "light"
     },
     "output_type": "display_data"
    }
   ],
   "source": [
    "# Prepare a distribution of counties by % of flood policies purchase.\n",
    "sns.displot(exp_data['Policy_Freq'], bins=15)\n",
    "plt.title('Distribution of Policies Purchased per Household')\n",
    "plt.xlabel('Percentage of Homes with Flood Insurance')\n",
    "plt.xlim([0, 0.6])\n",
    "plt.gcf().set_size_inches(12,4)"
   ]
  },
  {
   "cell_type": "markdown",
   "id": "3e6dc211",
   "metadata": {},
   "source": [
    "#### Graph 2: Show Top 20 Counties with Flood Coverage\n",
    "Graph 2 shows the top 20 counties that purchase flood insurance. These counties tend to be eastern coastal counties, so it is expected that these counties purchase flood insurance."
   ]
  },
  {
   "cell_type": "code",
   "execution_count": 23,
   "id": "d5de5abe",
   "metadata": {},
   "outputs": [],
   "source": [
    "# Filter on top 20 counties in TX with the highest concentration of flood policies purchased per household.\n",
    "top20 = exp_data.sort_values(by='Policy_Freq', ascending=False).head(20)"
   ]
  },
  {
   "cell_type": "code",
   "execution_count": 24,
   "id": "ace378a1",
   "metadata": {},
   "outputs": [
    {
     "data": {
      "image/png": "[encoded data removed]",
      "text/plain": [
       "<Figure size 1080x360 with 1 Axes>"
      ]
     },
     "metadata": {
      "needs_background": "light"
     },
     "output_type": "display_data"
    }
   ],
   "source": [
    "sns.barplot(x='County', y='Policy_Freq', data=top20)\n",
    "plt.title('Top 20 Counties, Ranked by % of Homes with Flood Insurance')\n",
    "plt.ylabel('% Homes with Flood Insurance')\n",
    "plt.xticks(rotation=45)\n",
    "plt.gcf().set_size_inches(15,5)"
   ]
  },
  {
   "cell_type": "markdown",
   "id": "16ade406",
   "metadata": {},
   "source": [
    "#### Graph 3: Graph of Counties with Largest Flood Losses\n",
    "While correlation is not proven, areas with the largest flood losses since 1978 also have the highest percentage of residents who purchase flood claims. Additional studies would need to be conducted to measure whether flood purchases increase following a disaster, which would be a better indicator of correlation.\n",
    "\n",
    "Our consolidated data set is used for this report."
   ]
  },
  {
   "cell_type": "code",
   "execution_count": 25,
   "id": "139aa837",
   "metadata": {},
   "outputs": [],
   "source": [
    "# Run a query of all historical claims since 1978. Group losses by county.\n",
    "\n",
    "county_claims = cons_df.groupby('County_Name', as_index=False)['Total_Loss_Amt'].sum()\\\n",
    "                       .sort_values(by='Total_Loss_Amt', ascending=False)\n",
    "\n",
    "# Convert Loss $ to Millions\n",
    "county_claims['Total_Loss_Amt_M'] = county_claims['Total_Loss_Amt']/1000000\n",
    "\n",
    "# Filter on top 20.\n",
    "top20claims = county_claims.head(20)"
   ]
  },
  {
   "cell_type": "code",
   "execution_count": 26,
   "id": "5c2f0dfa",
   "metadata": {},
   "outputs": [
    {
     "data": {
      "image/png": "[encoded data removed]",
      "text/plain": [
       "<Figure size 1080x360 with 1 Axes>"
      ]
     },
     "metadata": {
      "needs_background": "light"
     },
     "output_type": "display_data"
    }
   ],
   "source": [
    "# Graph top 20 counties with claims.\n",
    "\n",
    "sns.barplot(x='County_Name', y='Total_Loss_Amt_M', data=top20claims)\n",
    "plt.title('Top 20 Counties, Ranked by Flood Losses')\n",
    "plt.ylabel('($Millions)')\n",
    "plt.xticks(rotation=45)\n",
    "plt.gcf().set_size_inches(15,5)"
   ]
  },
  {
   "cell_type": "markdown",
   "id": "30c394db",
   "metadata": {},
   "source": [
    "#### Graph 4: Assess Flood Losses Over Time\n",
    "The consolidated data set will be used to measure flood losses over time. Flood losses in TX have increased over time with significant flooding events in 2001 (Tropical Storm Allison), 2008 (Hurricane Ike), 2017 (Hurricane Harvey), and 2019."
   ]
  },
  {
   "cell_type": "code",
   "execution_count": 27,
   "id": "4d17b33a",
   "metadata": {},
   "outputs": [
    {
     "data": {
      "image/png": "[encoded data removed]",
      "text/plain": [
       "<Figure size 1080x360 with 1 Axes>"
      ]
     },
     "metadata": {
      "needs_background": "light"
     },
     "output_type": "display_data"
    }
   ],
   "source": [
    "sns.lineplot(data=cons_df, x='Year_Loss', y=cons_df['Total_Loss_Amt']/1000000, ci=None)\n",
    "plt.title('History of Texas Flood Losses')\n",
    "plt.ylabel('($Millions)')\n",
    "plt.gcf().set_size_inches(15,5)"
   ]
  },
  {
   "cell_type": "markdown",
   "id": "986fb6d0",
   "metadata": {},
   "source": [
    "#### Graph 5: Comparison of Premiums Paid to Losses Paid\n",
    "Premium data is available for 2018-2021. The flood program is profitable for 3 of the 4 years available, because premiums exceed losses. The large flood loss in 2019 caused the program to incur a loss. Profitability over time is probably lower because of the significant flood losses noted in the events above."
   ]
  },
  {
   "cell_type": "code",
   "execution_count": 28,
   "id": "a36ab5fe",
   "metadata": {},
   "outputs": [],
   "source": [
    "# Create a data set of all premium paid, whether a loss occurred or not. Query and join the claims and premiums tables, \n",
    "# then create a dataframe from the SQL query.\n",
    "\n",
    "premiums = cursor.execute(''' SELECT pol.Policy_Effective_Year,\n",
    "                                     sum(pol.Policy_Insurance_Premium),\n",
    "                                     sum(cl.Total_Loss)\n",
    "                              FROM policy_table pol\n",
    "                              LEFT JOIN (SELECT sum(Total_Loss) as Total_Loss, yearOfLoss\n",
    "                                         FROM claims_table\n",
    "                                         GROUP BY yearOfLoss) cl \n",
    "                                    ON pol.Policy_Effective_Year=cl.yearOfLoss\n",
    "                              GROUP BY pol.Policy_Effective_Year\n",
    "                          ''')"
   ]
  },
  {
   "cell_type": "code",
   "execution_count": 29,
   "id": "04c3821d",
   "metadata": {},
   "outputs": [],
   "source": [
    "# Convert query to dataframe\n",
    "prem = pd.DataFrame(premiums, columns=['Policy_Effective_Year', 'Policy_Insurance_Premium', 'Total_Loss'])"
   ]
  },
  {
   "cell_type": "code",
   "execution_count": 30,
   "id": "e69fef4f",
   "metadata": {},
   "outputs": [
    {
     "data": {
      "image/png": "[encoded data removed]",
      "text/plain": [
       "<Figure size 432x288 with 1 Axes>"
      ]
     },
     "metadata": {
      "needs_background": "light"
     },
     "output_type": "display_data"
    }
   ],
   "source": [
    "# Graph total TX premiums and Losses for 2018-2021\n",
    "\n",
    "sns.lineplot(x=prem['Policy_Effective_Year'], y=prem['Policy_Insurance_Premium'], label='Premiums')\n",
    "sns.lineplot(x=prem['Policy_Effective_Year'], y=prem['Total_Loss']/1000000, color='orange', label='Losses')\n",
    "\n",
    "plt.title(\"Flood Program Profitability in TX\")\n",
    "plt.xlabel('Year')\n",
    "plt.ylabel('Dollars ($M)')\n",
    "plt.xticks([2018, 2019, 2020, 2021])\n",
    "\n",
    "plt.legend()\n",
    "plt.show()"
   ]
  },
  {
   "cell_type": "code",
   "execution_count": 31,
   "id": "cf579008",
   "metadata": {},
   "outputs": [],
   "source": [
    "# Close connection to database.\n",
    "\n",
    "conn.close()"
   ]
  },
  {
   "cell_type": "code",
   "execution_count": null,
   "id": "bb90ae8a",
   "metadata": {},
   "outputs": [],
   "source": []
  }
 ],
 "metadata": {
  "kernelspec": {
   "display_name": "Python 3 (ipykernel)",
   "language": "python",
   "name": "python3"
  },
  "language_info": {
   "codemirror_mode": {
    "name": "ipython",
    "version": 3
   },
   "file_extension": ".py",
   "mimetype": "text/x-python",
   "name": "python",
   "nbconvert_exporter": "python",
   "pygments_lexer": "ipython3",
   "version": "3.9.7"
  }
 },
 "nbformat": 4,
 "nbformat_minor": 5
}
